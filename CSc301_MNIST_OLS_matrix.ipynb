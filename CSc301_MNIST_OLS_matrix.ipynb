{
 "cells": [
  {
   "cell_type": "markdown",
   "metadata": {},
   "source": [
    "Example. As an example we apply least squares classification to the MNIST data set described in §4.3. The (training) data set contains 60,000 images of size 28 by 28. The number of examples per digit varies between 5421 (for digit five) and 6742 (for digit one). The pixel intensities are scaled to lie between 0 and 1. There is also a separate test set containing 10000 images."
   ]
  },
  {
   "cell_type": "code",
   "execution_count": 1,
   "metadata": {},
   "outputs": [],
   "source": [
    "import struct\n",
    "import gzip\n",
    "from pathlib import Path\n",
    "import numpy as np\n",
    "import matplotlib.pyplot as plt\n",
    "%matplotlib inline"
   ]
  },
  {
   "cell_type": "code",
   "execution_count": 2,
   "metadata": {},
   "outputs": [],
   "source": [
    "# create dictionaries to store the data\n",
    "train = dict()\n",
    "test = dict()"
   ]
  },
  {
   "cell_type": "code",
   "execution_count": 3,
   "metadata": {},
   "outputs": [],
   "source": [
    "def get_images(filename):\n",
    "    with gzip.GzipFile(Path('mnist', filename), 'rb') as f:\n",
    "        magic, size, rows, cols = struct.unpack(\">IIII\", f.read(16))\n",
    "        images = np.frombuffer(f.read(), dtype=np.dtype('B'))\n",
    "    return images.reshape(size, rows,cols)\n",
    "\n",
    "train['image'] = get_images('train-images-idx3-ubyte.gz')\n",
    "test['image'] = get_images('t10k-images-idx3-ubyte.gz')"
   ]
  },
  {
   "cell_type": "code",
   "execution_count": 4,
   "metadata": {},
   "outputs": [],
   "source": [
    "def get_labels(filename):\n",
    "    with gzip.GzipFile(Path('mnist', filename), 'rb') as f:\n",
    "        magic, num = struct.unpack(\">II\", f.read(8))\n",
    "        labels = np.frombuffer(f.read(), dtype=np.dtype('B'))\n",
    "    return labels"
   ]
  },
  {
   "cell_type": "code",
   "execution_count": 5,
   "metadata": {},
   "outputs": [],
   "source": [
    "train['label'] = get_labels('train-labels-idx1-ubyte.gz')\n",
    "test['label'] = get_labels('t10k-labels-idx1-ubyte.gz')"
   ]
  },
  {
   "cell_type": "markdown",
   "metadata": {},
   "source": [
    "For each digit, we can define a Boolean classifier that distinguishes the digit from the other nine digits. Here we will consider classifiers to distinguish the digit zero. In a first experiment, we use the n = 28 × 28 = 784 pixel intensities as features in the least squares classifier (12.1). \n",
    "\n",
    "The vectorized form of least squares can be written as:\n",
    "$$ \n",
    "y = X\\beta + \\epsilon\n",
    "$$\n",
    "\n",
    "where $\\beta$ is the population parameters and $\\hat{\\beta}$ is the estimate of the population parameters.\n",
    "$$\n",
    "e = y - X\\hat{\\beta}\n",
    "$$\n",
    "\n",
    "The goal of OLS (ordinary least squares) is to minimize the sum of squared residuals $\\epsilon'\\epsilon$:\n",
    "\n",
    "\n",
    "The full derivation is at https://web.stanford.edu/~mrosenfe/soc_meth_proj3/matrix_OLS_NYU_notes.pdf and yields:\n",
    "$$\n",
    "\\beta=(X'X)^{-1}X'y\n",
    "$$"
   ]
  },
  {
   "cell_type": "code",
   "execution_count": 6,
   "metadata": {},
   "outputs": [],
   "source": [
    "X = train['image'].reshape(60000, 28*28)/255\n",
    "y = (train['label']>0).astype(int)*-2 + 1"
   ]
  },
  {
   "cell_type": "markdown",
   "metadata": {},
   "source": [
    "$(X'X)^{-1}$ can not be computed because $(X'X)$ is a singular matrix and so not invertible. Instead, use Singular Value Decomposition where the matrix $X$ can be factored into:\n",
    "$$\n",
    "X = U\\Sigma V'\n",
    "$$\n",
    "\n",
    "and it can be shown (https://math.stackexchange.com/q/19954) that:\n",
    "$$ \n",
    "(X'X)^{-1}X = V\\Sigma^{-1}U'\n",
    "$$\n",
    "\n"
   ]
  },
  {
   "cell_type": "code",
   "execution_count": 7,
   "metadata": {},
   "outputs": [],
   "source": [
    "# Instead use Singular Value Decomposition:\n",
    "u, s, vt = np.linalg.svd(X, full_matrices=False)"
   ]
  },
  {
   "cell_type": "code",
   "execution_count": 8,
   "metadata": {},
   "outputs": [],
   "source": [
    "X_pinv = (vt.T*(1/s)).dot(u.T)"
   ]
  },
  {
   "cell_type": "code",
   "execution_count": 9,
   "metadata": {},
   "outputs": [],
   "source": [
    "beta = X_pinv.dot(y)"
   ]
  },
  {
   "cell_type": "code",
   "execution_count": 10,
   "metadata": {},
   "outputs": [
    {
     "data": {
      "image/png": "[encoded data removed]",
      "text/plain": [
       "<Figure size 720x360 with 4 Axes>"
      ]
     },
     "metadata": {},
     "output_type": "display_data"
    }
   ],
   "source": [
    "fig, (ax, ax2) = plt.subplots(ncols=2, figsize=(10,5))\n",
    "im = ax.imshow(beta.reshape(28,28), cmap=\"RdBu\", vmin=-.3, vmax=.3)\n",
    "cb = fig.colorbar(im, ax=ax, fraction=.045)\n",
    "cb.set_ticks([-.3, -.15, 0, .15, .3])\n",
    "cb.set_ticklabels([r\"$\\leq.3$\", \"-.15\", \"0\", \".15\", \"$\\geq.3$\"])\n",
    "\n",
    "im2 = ax2.imshow(X[1000].reshape(28,28), cmap='gray')\n",
    "cb2 = fig.colorbar(im2, ax=ax2, fraction=.045)"
   ]
  },
  {
   "cell_type": "code",
   "execution_count": 11,
   "metadata": {},
   "outputs": [],
   "source": [
    "yhat = np.sign(X.dot(beta))"
   ]
  },
  {
   "cell_type": "code",
   "execution_count": 12,
   "metadata": {},
   "outputs": [
    {
     "name": "stdout",
     "output_type": "stream",
     "text": [
      "5349   574    5923  \n",
      "325    53752  54077 \n",
      "5674   54326 \n"
     ]
    }
   ],
   "source": [
    "tp = ((y==1) & (yhat==1)).sum()\n",
    "tn = ((y==-1) & (yhat==-1)).sum()\n",
    "fp = ((y==-1) & (yhat==1)).sum()\n",
    "fn = ((y==1) & (yhat==-1)).sum()\n",
    "\n",
    "print(f\"{tp:<6} {fn:<6} {tp+fn:<6}\")\n",
    "print(f\"{fp:<6} {tn:<6} {fp+tn:<6}\")\n",
    "print(f\"{tp+fp:<6} {fn+tn:<6}\")"
   ]
  },
  {
   "cell_type": "code",
   "execution_count": 13,
   "metadata": {},
   "outputs": [
    {
     "name": "stdout",
     "output_type": "stream",
     "text": [
      "918    62     980   \n",
      "62     8958   9020  \n",
      "980    9020  \n"
     ]
    }
   ],
   "source": [
    "xt = (test['image'].reshape(10000, -1)/255)\n",
    "yt = (test['label']>0).astype(int)*-2 + 1\n",
    "\n",
    "yhat_t = np.sign(xt.dot(beta))\n",
    "\n",
    "tp = ((yt==1) & (yhat_t==1)).sum()\n",
    "tn = ((yt==-1) & (yhat_t==-1)).sum()\n",
    "fp = ((yt==-1) & (yhat_t==1)).sum()\n",
    "fn = ((yt==1) & (yhat_t==-1)).sum()\n",
    "\n",
    "print(f\"{tp:<6} {fn:<6} {tp+fn:<6}\")\n",
    "print(f\"{fp:<6} {tn:<6} {fp+tn:<6}\")\n",
    "print(f\"{tp+fp:<6} {fn+tn:<6}\")"
   ]
  },
  {
   "cell_type": "code",
   "execution_count": null,
   "metadata": {},
   "outputs": [],
   "source": []
  }
 ],
 "metadata": {
  "kernelspec": {
   "display_name": "Python 3",
   "language": "python",
   "name": "python3"
  },
  "language_info": {
   "codemirror_mode": {
    "name": "ipython",
    "version": 3
   },
   "file_extension": ".py",
   "mimetype": "text/x-python",
   "name": "python",
   "nbconvert_exporter": "python",
   "pygments_lexer": "ipython3",
   "version": "3.6.5"
  }
 },
 "nbformat": 4,
 "nbformat_minor": 2
}
