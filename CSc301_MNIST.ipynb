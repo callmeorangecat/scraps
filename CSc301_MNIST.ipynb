{
 "cells": [
  {
   "cell_type": "markdown",
   "metadata": {},
   "source": [
    "Example. As an example we apply least squares classification to the MNIST data set described in §4.3. The (training) data set contains 60,000 images of size 28 by 28. The number of examples per digit varies between 5421 (for digit five) and 6742 (for digit one). The pixel intensities are scaled to lie between 0 and 1. There is also a separate test set containing 10000 images."
   ]
  },
  {
   "cell_type": "code",
   "execution_count": 1,
   "metadata": {},
   "outputs": [
    {
     "name": "stdout",
     "output_type": "stream",
     "text": [
      "t10k-images-idx3-ubyte.gz   train-images-idx3-ubyte.gz\r\n",
      "t10k-labels-idx1-ubyte.gz   train-labels-idx1-ubyte.gz\r\n"
     ]
    }
   ],
   "source": [
    "ls mnist/"
   ]
  },
  {
   "cell_type": "code",
   "execution_count": 2,
   "metadata": {},
   "outputs": [],
   "source": [
    "import struct\n",
    "import gzip\n",
    "from pathlib import Path\n",
    "import numpy as np\n",
    "import pandas as pd\n",
    "import matplotlib.pyplot as plt\n",
    "%matplotlib inline"
   ]
  },
  {
   "cell_type": "code",
   "execution_count": 3,
   "metadata": {},
   "outputs": [],
   "source": [
    "# create dictionaries to store the data\n",
    "train = dict()\n",
    "test = dict()"
   ]
  },
  {
   "cell_type": "code",
   "execution_count": 4,
   "metadata": {},
   "outputs": [],
   "source": [
    "def get_images(filename):\n",
    "    with gzip.GzipFile(Path('mnist', filename), 'rb') as f:\n",
    "        magic, size, rows, cols = struct.unpack(\">IIII\", f.read(16))\n",
    "        print(magic, size, rows, cols)\n",
    "        images = np.frombuffer(f.read(), dtype=np.dtype('B'))\n",
    "    return images.reshape(size, rows,cols)"
   ]
  },
  {
   "cell_type": "code",
   "execution_count": 5,
   "metadata": {},
   "outputs": [
    {
     "name": "stdout",
     "output_type": "stream",
     "text": [
      "2051 60000 28 28\n",
      "2051 10000 28 28\n",
      "(60000, 28, 28) (10000, 28, 28)\n"
     ]
    }
   ],
   "source": [
    "train['image'] = get_images('train-images-idx3-ubyte.gz')\n",
    "test['image'] = get_images('t10k-images-idx3-ubyte.gz')\n",
    "print(train['image'].shape, test['image'].shape)"
   ]
  },
  {
   "cell_type": "code",
   "execution_count": 6,
   "metadata": {},
   "outputs": [
    {
     "data": {
      "image/png": "[encoded data removed]",
      "text/plain": [
       "<Figure size 432x288 with 1 Axes>"
      ]
     },
     "metadata": {},
     "output_type": "display_data"
    }
   ],
   "source": [
    "#sanity check that it's loaded in properly\n",
    "fig, ax = plt.subplots()\n",
    "_ = ax.imshow(train['image'][1000], cmap='gray')"
   ]
  },
  {
   "cell_type": "code",
   "execution_count": 7,
   "metadata": {},
   "outputs": [],
   "source": [
    "def get_labels(filename):\n",
    "    with gzip.GzipFile(Path('mnist', filename), 'rb') as f:\n",
    "        magic, num = struct.unpack(\">II\", f.read(8))\n",
    "        labels = np.frombuffer(f.read(), dtype=np.dtype('B'))\n",
    "    return labels"
   ]
  },
  {
   "cell_type": "code",
   "execution_count": 8,
   "metadata": {},
   "outputs": [
    {
     "name": "stdout",
     "output_type": "stream",
     "text": [
      "(60000,) (10000,)\n"
     ]
    }
   ],
   "source": [
    "train['label'] = get_labels('train-labels-idx1-ubyte.gz')\n",
    "test['label'] = get_labels('t10k-labels-idx1-ubyte.gz')\n",
    "print(train['label'].shape, test['label'].shape)"
   ]
  },
  {
   "cell_type": "code",
   "execution_count": 9,
   "metadata": {},
   "outputs": [
    {
     "data": {
      "text/plain": [
       "array([0, 1, 2, 3, 4, 5, 6, 7, 8, 9], dtype=uint8)"
      ]
     },
     "execution_count": 9,
     "metadata": {},
     "output_type": "execute_result"
    }
   ],
   "source": [
    "#check that labels are between expected values\n",
    "np.unique(train['label'])"
   ]
  },
  {
   "cell_type": "markdown",
   "metadata": {},
   "source": [
    "For each digit, we can define a Boolean classifier that distinguishes the digit from the other nine digits. Here we will consider classifiers to distinguish the digit zero. In a first experiment, we use the n = 28 × 28 = 784 pixel intensities as features in the least squares classifier (12.1). "
   ]
  },
  {
   "cell_type": "code",
   "execution_count": 10,
   "metadata": {},
   "outputs": [],
   "source": [
    "#scales images to 0-1\n",
    "x = (train['image'].reshape(60000, -1)/255)\n",
    "#train only on 0, code 0 as +1, >0 as 1"
   ]
  },
  {
   "cell_type": "code",
   "execution_count": 11,
   "metadata": {},
   "outputs": [
    {
     "data": {
      "text/plain": [
       "array([-1,  1])"
      ]
     },
     "execution_count": 11,
     "metadata": {},
     "output_type": "execute_result"
    }
   ],
   "source": [
    "y = (train['label']>0).astype(int)*-2 + 1\n",
    "# check that y is coded as -1 and 1\n",
    "np.unique(y)"
   ]
  },
  {
   "cell_type": "code",
   "execution_count": 12,
   "metadata": {},
   "outputs": [],
   "source": [
    "from sklearn import linear_model as slm"
   ]
  },
  {
   "cell_type": "code",
   "execution_count": 13,
   "metadata": {},
   "outputs": [],
   "source": [
    "lm = slm.LinearRegression()\n",
    "lm.fit(x, y)\n",
    "yhat = lm.predict(x)"
   ]
  },
  {
   "cell_type": "code",
   "execution_count": 14,
   "metadata": {},
   "outputs": [
    {
     "data": {
      "image/png": "[encoded data removed]",
      "text/plain": [
       "<Figure size 720x360 with 4 Axes>"
      ]
     },
     "metadata": {},
     "output_type": "display_data"
    }
   ],
   "source": [
    "# figures inspired by https://stanford.edu/class/ee103/lectures/ls-classif_slides.pdf\n",
    "\n",
    "fig, (ax, ax2) = plt.subplots(ncols=2, figsize=(10,5))\n",
    "im = ax.imshow(lm.coef_.reshape(28,28), cmap=\"RdBu\", vmin=-.3, vmax=.3)\n",
    "\n",
    "\n",
    "cb = fig.colorbar(im, ax=ax, fraction=.045)\n",
    "cb.set_ticks([-.3, -.15, 0, .15, .3])\n",
    "cb.set_ticklabels([r\"$\\leq.3$\", \"-.15\", \"0\", \".15\", \"$\\geq.3$\"])\n",
    "\n",
    "im2 = ax2.imshow(x[0].reshape(28,28), cmap='gray')\n",
    "cb2 = fig.colorbar(im2, ax=ax2, fraction=.045)"
   ]
  },
  {
   "cell_type": "code",
   "execution_count": 15,
   "metadata": {},
   "outputs": [
    {
     "data": {
      "image/png": "[encoded data removed]",
      "text/plain": [
       "<Figure size 720x360 with 4 Axes>"
      ]
     },
     "metadata": {},
     "output_type": "display_data"
    }
   ],
   "source": [
    "fig, (ax, ax2) = plt.subplots(ncols=2, figsize=(10,5))\n",
    "im = ax.imshow(lm.coef_.reshape(28,28), cmap=\"RdBu\", vmin=-.3, vmax=.3)\n",
    "\n",
    "\n",
    "cb = fig.colorbar(im, ax=ax, fraction=.045)\n",
    "cb.set_ticks([-.3, -.15, 0, .15, .3])\n",
    "cb.set_ticklabels([r\"$\\leq.3$\", \"-.15\", \"0\", \".15\", \"$\\geq.3$\"])\n",
    "\n",
    "im2 = ax2.imshow(x[1000].reshape(28,28), cmap='gray')\n",
    "cb2 = fig.colorbar(im2, ax=ax2, fraction=.045)"
   ]
  },
  {
   "cell_type": "code",
   "execution_count": 16,
   "metadata": {},
   "outputs": [
    {
     "data": {
      "image/png": "[encoded data removed]",
      "text/plain": [
       "<Figure size 720x360 with 1 Axes>"
      ]
     },
     "metadata": {},
     "output_type": "display_data"
    }
   ],
   "source": [
    "fig, ax = plt.subplots(figsize=(10,5))\n",
    "_ = ax.hist(yhat[y==1], label=\"Zero(+)\", bins=50, density=True, alpha=.75)\n",
    "_ = ax.hist(yhat[y==-1], label=\"Other (-)\", bins=50, density=True, alpha=.75)\n",
    "_ = ax.axvspan(0, 3, facecolor= 'lavender', label=r\"$\\hat{y}$ = +1\", zorder=-6)\n",
    "_ = ax.axvspan(-3, 0, facecolor='cornsilk', label=r\"$\\hat{y}$ = -1\", zorder=-6)\n",
    "_ = ax.axvline(x=0, color='k')\n",
    "_ = ax.set_xlim(-3,3)\n",
    "_ = ax.legend(ncol=2, loc=1, facecolor='white', framealpha=.95)"
   ]
  },
  {
   "cell_type": "code",
   "execution_count": 17,
   "metadata": {},
   "outputs": [
    {
     "data": {
      "text/plain": [
       "array([-1.,  1.])"
      ]
     },
     "execution_count": 17,
     "metadata": {},
     "output_type": "execute_result"
    }
   ],
   "source": [
    "yhat_s = np.sign(yhat)\n",
    "np.unique(yhat_s)"
   ]
  },
  {
   "cell_type": "markdown",
   "metadata": {},
   "source": [
    "The performance on the training data set is shown in the following confusion matrix.\n",
    "\n",
    "|        |$\\hat{y}$ = +1|$\\hat{y}$ = −1| total|\n",
    "|:------:|:----------:|:----------:|:----:|\n",
    "|$y$ = +1  |5165        |758         |5923  |\n",
    "|$y$ = −1  |179         |53898       |54077 |\n",
    "|total   |5344        |54656       |60000 |\n",
    "\n",
    "The error rate is 1.6%. "
   ]
  },
  {
   "cell_type": "code",
   "execution_count": 18,
   "metadata": {},
   "outputs": [
    {
     "name": "stdout",
     "output_type": "stream",
     "text": [
      "5168   755    5923  \n",
      "177    53900  54077 \n",
      "5345   54655 \n"
     ]
    }
   ],
   "source": [
    "tp = ((y==1) & (yhat_s==1)).sum()\n",
    "tn = ((y==-1) & (yhat_s==-1)).sum()\n",
    "fp = ((y==-1) & (yhat_s==1)).sum()\n",
    "fn = ((y==1) & (yhat_s==-1)).sum()\n",
    "\n",
    "print(f\"{tp:<6} {fn:<6} {tp+fn:<6}\")\n",
    "print(f\"{fp:<6} {tn:<6} {fp+tn:<6}\")\n",
    "print(f\"{tp+fp:<6} {fn+tn:<6}\")"
   ]
  },
  {
   "cell_type": "markdown",
   "metadata": {},
   "source": [
    "The performance on the test set is shown in the next confusion matrix.\n",
    "\n",
    "|        |$\\hat{y}$ = +1|$\\hat{y}$ = −1| total|\n",
    "|:------:|:----------:|:----------:|:----:|\n",
    "|$y$ = +1  |846        |116         |980  |\n",
    "|$y$ = −1  |42         |8978      |9020 |\n",
    "|total   |906        |9095       |10000 |\n",
    "\n",
    "\n",
    "Here too the error rate is 1.6%, giving us some confidence in our classifier."
   ]
  },
  {
   "cell_type": "code",
   "execution_count": 19,
   "metadata": {},
   "outputs": [
    {
     "name": "stdout",
     "output_type": "stream",
     "text": [
      "866    114    980   \n",
      "43     8977   9020  \n",
      "909    9091  \n"
     ]
    }
   ],
   "source": [
    "xt = (test['image'].reshape(10000, -1)/255)\n",
    "yt = (test['label']>0).astype(int)*-2 + 1\n",
    "\n",
    "yhat_t = np.sign(lm.predict(xt))\n",
    "\n",
    "tp = ((yt==1) & (yhat_t==1)).sum()\n",
    "tn = ((yt==-1) & (yhat_t==-1)).sum()\n",
    "fp = ((yt==-1) & (yhat_t==1)).sum()\n",
    "fn = ((yt==1) & (yhat_t==-1)).sum()\n",
    "\n",
    "print(f\"{tp:<6} {fn:<6} {tp+fn:<6}\")\n",
    "print(f\"{fp:<6} {tn:<6} {fp+tn:<6}\")\n",
    "print(f\"{tp+fp:<6} {fn+tn:<6}\")"
   ]
  }
 ],
 "metadata": {
  "kernelspec": {
   "display_name": "Python 3",
   "language": "python",
   "name": "python3"
  },
  "language_info": {
   "codemirror_mode": {
    "name": "ipython",
    "version": 3
   },
   "file_extension": ".py",
   "mimetype": "text/x-python",
   "name": "python",
   "nbconvert_exporter": "python",
   "pygments_lexer": "ipython3",
   "version": "3.6.4"
  }
 },
 "nbformat": 4,
 "nbformat_minor": 2
}
