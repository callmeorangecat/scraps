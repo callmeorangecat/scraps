{
 "cells": [
  {
   "cell_type": "code",
   "execution_count": 21,
   "metadata": {},
   "outputs": [],
   "source": [
    "import matplotlib.pyplot as plt\n",
    "import matplotlib.colors as mcolors\n",
    "import numpy as np\n",
    "%matplotlib inline"
   ]
  },
  {
   "cell_type": "code",
   "execution_count": 113,
   "metadata": {},
   "outputs": [],
   "source": [
    "#specs: https://en.wikipedia.org/wiki/Flag_of_the_United_States#Specifications\n",
    "height = 13\n",
    "width = int(2*13)\n",
    "star_h = height*(7/13)\n",
    "star_w = width*(2/5)\n",
    "syoff = star_h/10\n",
    "sxoff = star_w/12"
   ]
  },
  {
   "cell_type": "code",
   "execution_count": 112,
   "metadata": {},
   "outputs": [
    {
     "data": {
      "image/png": "[encoded data removed]",
      "text/plain": [
       "<Figure size 432x288 with 1 Axes>"
      ]
     },
     "metadata": {
      "needs_background": "light"
     },
     "output_type": "display_data"
    }
   ],
   "source": [
    "stripes = np.zeros((height, width))\n",
    "stripes[1::2] = 1\n",
    "fig, ax = plt.subplots()\n",
    "smap = mcolors.ListedColormap(['#B22234', '#FFFFFF'])\n",
    "_ = ax.pcolormesh(stripes, cmap=smap)\n",
    "_ = ax.axis('off')"
   ]
  },
  {
   "cell_type": "code",
   "execution_count": 116,
   "metadata": {},
   "outputs": [],
   "source": [
    "star_6x = np.arange(sxoff, 2*sxoff*6, 2*sxoff)\n",
    "star_5x = np.arange(2*sxoff, 2*sxoff*5, 2*sxoff)\n",
    "star_6y = np.arange(syoff, 2*syoff*5, 2*syoff)\n",
    "star_5y = np.arange(2*syoff, 2*syoff*5, 2*syoff)\n",
    "x6, y6 = np.meshgrid(star_6x, star_6y)\n",
    "x5, y5 = np.meshgrid(star_5x, star_5y)"
   ]
  },
  {
   "cell_type": "code",
   "execution_count": 129,
   "metadata": {},
   "outputs": [
    {
     "data": {
      "image/png": "[encoded data removed]",
      "text/plain": [
       "<Figure size 432x288 with 1 Axes>"
      ]
     },
     "metadata": {
      "needs_background": "light"
     },
     "output_type": "display_data"
    }
   ],
   "source": [
    "fig, ax = plt.subplots()\n",
    "ax.scatter(x6, y6, marker='*', color='white', s=600)\n",
    "ax.scatter(x5, y5, marker='*', color='white', s=600)\n",
    "#ax.axis('off')\n",
    "ax.set_facecolor('#3C3B6E')\n",
    "ax.set_aspect('equal')\n"
   ]
  },
  {
   "cell_type": "code",
   "execution_count": 172,
   "metadata": {},
   "outputs": [
    {
     "data": {
      "image/png": "[encoded data removed]",
      "text/plain": [
       "<Figure size 624x312 with 1 Axes>"
      ]
     },
     "metadata": {
      "needs_background": "light"
     },
     "output_type": "display_data"
    }
   ],
   "source": [
    "fig, ax = plt.subplots(figsize=(width/3, height/3))\n",
    "_ = ax.pcolormesh(stripes, cmap=smap)\n",
    "sax =  ax.inset_axes([0, 6, star_w, star_h], transform=ax.transData)\n",
    "sax.scatter(x6, y6, marker='*', color='white', s=200)\n",
    "sax.scatter(x5, y5, marker='*', color='white', s=200)\n",
    "sax.set_facecolor('#3C3B6E')\n",
    "sax.set_aspect('equal')\n",
    "#turn off ticks and tick labels\n",
    "for myax in [ax, sax]:\n",
    "    myax.tick_params('both', length=0)\n",
    "    myax.set_xticklabels([])\n",
    "    myax.set_yticklabels([])\n",
    "#remove frame from stars\n",
    "for spine in sax.spines.values():\n",
    "    spine.set_visible(False)\n"
   ]
  },
  {
   "cell_type": "code",
   "execution_count": null,
   "metadata": {},
   "outputs": [],
   "source": []
  }
 ],
 "metadata": {
  "kernelspec": {
   "display_name": "Python 3",
   "language": "python",
   "name": "python3"
  },
  "language_info": {
   "codemirror_mode": {
    "name": "ipython",
    "version": 3
   },
   "file_extension": ".py",
   "mimetype": "text/x-python",
   "name": "python",
   "nbconvert_exporter": "python",
   "pygments_lexer": "ipython3",
   "version": "3.7.3"
  },
  "latex_envs": {
   "LaTeX_envs_menu_present": true,
   "autoclose": false,
   "autocomplete": true,
   "bibliofile": "biblio.bib",
   "cite_by": "apalike",
   "current_citInitial": 1,
   "eqLabelWithNumbers": true,
   "eqNumInitial": 1,
   "hotkeys": {
    "equation": "Ctrl-E",
    "itemize": "Ctrl-I"
   },
   "labels_anchors": false,
   "latex_user_defs": false,
   "report_style_numbering": false,
   "user_envs_cfg": false
  },
  "varInspector": {
   "cols": {
    "lenName": 16,
    "lenType": 16,
    "lenVar": 40
   },
   "kernels_config": {
    "python": {
     "delete_cmd_postfix": "",
     "delete_cmd_prefix": "del ",
     "library": "var_list.py",
     "varRefreshCmd": "print(var_dic_list())"
    },
    "r": {
     "delete_cmd_postfix": ") ",
     "delete_cmd_prefix": "rm(",
     "library": "var_list.r",
     "varRefreshCmd": "cat(var_dic_list()) "
    }
   },
   "types_to_exclude": [
    "module",
    "function",
    "builtin_function_or_method",
    "instance",
    "_Feature"
   ],
   "window_display": false
  }
 },
 "nbformat": 4,
 "nbformat_minor": 2
}
