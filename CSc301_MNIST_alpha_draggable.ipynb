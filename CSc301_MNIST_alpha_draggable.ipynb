{
 "cells": [
  {
   "cell_type": "markdown",
   "metadata": {
    "slideshow": {
     "slide_type": "slide"
    }
   },
   "source": [
    "Example. As an example we apply least squares classification to the MNIST data set described in §4.3. The (training) data set contains 60,000 images of size 28 by 28. The number of examples per digit varies between 5421 (for digit five) and 6742 (for digit one). The pixel intensities are scaled to lie between 0 and 1. There is also a separate test set containing 10000 images."
   ]
  },
  {
   "cell_type": "code",
   "execution_count": 1,
   "metadata": {
    "slideshow": {
     "slide_type": "slide"
    }
   },
   "outputs": [],
   "source": [
    "import struct\n",
    "import gzip\n",
    "from pathlib import Path\n",
    "import numpy as np\n",
    "import pandas as pd\n",
    "import matplotlib.pyplot as plt\n",
    "import matplotlib.patches as mpatches\n",
    "import matplotlib.animation as animation\n",
    "from IPython.display import HTML\n",
    "%matplotlib widget"
   ]
  },
  {
   "cell_type": "code",
   "execution_count": 2,
   "metadata": {
    "slideshow": {
     "slide_type": "slide"
    }
   },
   "outputs": [],
   "source": [
    "# create dictionaries to store the data\n",
    "train = dict()\n",
    "test = dict()"
   ]
  },
  {
   "cell_type": "code",
   "execution_count": 3,
   "metadata": {
    "slideshow": {
     "slide_type": "slide"
    }
   },
   "outputs": [],
   "source": [
    "def get_images(filename):\n",
    "    with gzip.GzipFile(Path('mnist', filename), 'rb') as f:\n",
    "        magic, size, rows, cols = struct.unpack(\">IIII\", f.read(16))\n",
    "        images = np.frombuffer(f.read(), dtype=np.dtype('B'))\n",
    "    return images.reshape(size, rows,cols)\n",
    "\n",
    "train['image'] = get_images('train-images-idx3-ubyte.gz')\n",
    "test['image'] = get_images('t10k-images-idx3-ubyte.gz')"
   ]
  },
  {
   "cell_type": "code",
   "execution_count": 4,
   "metadata": {
    "slideshow": {
     "slide_type": "slide"
    }
   },
   "outputs": [],
   "source": [
    "def get_labels(filename):\n",
    "    with gzip.GzipFile(Path('mnist', filename), 'rb') as f:\n",
    "        magic, num = struct.unpack(\">II\", f.read(8))\n",
    "        labels = np.frombuffer(f.read(), dtype=np.dtype('B'))\n",
    "    return labels"
   ]
  },
  {
   "cell_type": "code",
   "execution_count": 5,
   "metadata": {
    "slideshow": {
     "slide_type": "slide"
    }
   },
   "outputs": [],
   "source": [
    "train['label'] = get_labels('train-labels-idx1-ubyte.gz')\n",
    "test['label'] = get_labels('t10k-labels-idx1-ubyte.gz')"
   ]
  },
  {
   "cell_type": "markdown",
   "metadata": {
    "slideshow": {
     "slide_type": "slide"
    }
   },
   "source": [
    "For each digit, we can define a Boolean classifier that distinguishes the digit from the other nine digits. Here we will consider classifiers to distinguish the digit zero. In a first experiment, we use the n = 28 × 28 = 784 pixel intensities as features in the least squares classifier (12.1). "
   ]
  },
  {
   "cell_type": "code",
   "execution_count": 6,
   "metadata": {
    "slideshow": {
     "slide_type": "slide"
    }
   },
   "outputs": [],
   "source": [
    "#scales images to 0-1\n",
    "x = (train['image'].reshape(60000, -1)/255)\n",
    "#train only on 0, code 0 as +1, >0 as 1\n",
    "y = (train['label']>0).astype(int)*-2 + 1"
   ]
  },
  {
   "cell_type": "code",
   "execution_count": 7,
   "metadata": {
    "slideshow": {
     "slide_type": "slide"
    }
   },
   "outputs": [],
   "source": [
    "from sklearn import linear_model as slm\n",
    "lm = slm.LinearRegression()\n",
    "lm.fit(x, y)\n",
    "yhat = lm.predict(x)"
   ]
  },
  {
   "cell_type": "code",
   "execution_count": 8,
   "metadata": {
    "slideshow": {
     "slide_type": "slide"
    }
   },
   "outputs": [],
   "source": [
    "from functools import lru_cache\n",
    "def make_roc_factory(y, yhat):\n",
    "    @lru_cache(maxsize=128, typed=False)\n",
    "    def compute_roc(alpha):  \n",
    "        yhat_roc = np.sign(yhat + alpha)\n",
    "        tp = ((y==1) & (yhat_roc==1)).sum()\n",
    "        tn = ((y==-1) & (yhat_roc==-1)).sum()\n",
    "        fp = ((y==-1) & (yhat_roc==1)).sum()\n",
    "        fn = ((y==1) & (yhat_roc==-1)).sum()\n",
    "        tpr = tp/(tp+fn)\n",
    "        fpr = fp/(fp+tn)\n",
    "        return fpr, tpr\n",
    "    return compute_roc\n",
    "\n",
    "compute_roc = make_roc_factory(y, yhat)"
   ]
  },
  {
   "cell_type": "code",
   "execution_count": 9,
   "metadata": {},
   "outputs": [],
   "source": [
    "def label_offsets(alpha, offset=.015):\n",
    "    xscale, yscale = 1, 1\n",
    "    if alpha>.9:\n",
    "        xscale = -10\n",
    "    if alpha >=.6:\n",
    "        xscale = -4\n",
    "        yscale = -5\n",
    "    if alpha>=.3:\n",
    "        xscale = -1\n",
    "        yscale = -4\n",
    "    return xscale*offset, yscale*offset"
   ]
  },
  {
   "cell_type": "code",
   "execution_count": 10,
   "metadata": {},
   "outputs": [],
   "source": [
    "class OLS_ALPHA:\n",
    "    alphas = np.linspace(-1, 1, 1000)\n",
    "    fpx, fpy = zip(*[compute_roc(alpha) for alpha in alphas])\n",
    "    \n",
    "    def __init__(self, alpha=0):\n",
    "        self.alpha = 0\n",
    "        self.fig, (self.ax1, self.ax2) = plt.subplots(ncols=2, figsize=(12, 4), \n",
    "                                            gridspec_kw ={'width_ratios':[1.5,1]})\n",
    "        self.patches1, self.patches2 = self.draw_histogram()\n",
    "        self.cached_state = self.patches1+self.patches2\n",
    "\n",
    "        _ = self.ax1.axvspan(0, 3, facecolor= 'lavender', edgecolor='lightgray', label=r\"$\\hat{y}$ = +1\", zorder=-6)\n",
    "        _ = self.ax1.axvspan(-3, 0, facecolor='cornsilk', edgecolor='lightgray', label=r\"$\\hat{y}$ = -1\", zorder=-6)\n",
    "        _ = self.ax1.axvline(x=0, color='k')\n",
    "        _ = self.ax1.set_xlim(-3,3)\n",
    "        _ = self.ax1.set_ylim(0,2.5)\n",
    "        _ = self.ax1.legend(ncol=2, loc=1, facecolor='white', framealpha=.95)\n",
    "\n",
    "        self.line, = self.ax2.plot(self.fpx, self.fpy, color='darkseagreen', picker=True)\n",
    "        self.line.set_pickradius(10)\n",
    "\n",
    "\n",
    "        self.sx, self.sy = compute_roc(self.alpha)\n",
    "        \n",
    "        self.s = 30\n",
    "        self.pcoll = self.ax2.scatter(self.sx, self.sy, s=self.s, c='seagreen', zorder=5, picker=True)\n",
    "        _ = self.ax2.set_xlabel(\"False Positive\")\n",
    "        _ = self.ax2.set_ylabel(\"True Positive\")\n",
    "\n",
    "        xof, yof = label_offsets(self.alpha)\n",
    "        self.label = self.ax2.text(self.sx+xof, self.sy+yof, f'alpha: {alpha:.2f}', color='mediumseagreen')\n",
    "\n",
    "        # to create dragging update effect\n",
    "        self.rect = mpatches.Rectangle((-3,0), height=3, width=6, ec=None, facecolor='white',\n",
    "                              alpha = 0,picker=True, zorder=100)\n",
    "        self.ax1.add_patch(self.rect)\n",
    "\n",
    "        self.fig.canvas.mpl_connect('button_press_event', self.on_press)\n",
    "        self.cidrelease = self.rect.figure.canvas.mpl_connect('button_release_event', self.on_release)\n",
    "        #to do - add motion for smoothness\n",
    "        #self.cidmotion = self.rect.figure.canvas.mpl_connect('motion_notify_event', self.on_motion)\n",
    "        plt.show()\n",
    "    \n",
    "    def draw_histogram(self):\n",
    "        _, _, patches1 = self.ax1.hist(yhat[y==1] + self.alpha, label=\"y = +1\", color=\"tab:blue\", bins=50, density=True, alpha=.75)\n",
    "        _, _, patches2 = self.ax1.hist(yhat[y==-1] + self.alpha, label=\"y = -1\", color=\"tab:orange\", bins=50, density=True, alpha=.75)\n",
    "        return patches1, patches2\n",
    "\n",
    "    def update_plot(self):\n",
    "        for p in self.cached_state:\n",
    "            p.remove()\n",
    "        del self.cached_state[:]\n",
    "        self.patches1, self.patches2 = self.draw_histogram()\n",
    "        self.cached_state.extend(self.patches1+self.patches2)\n",
    "\n",
    "        xp, yp = compute_roc(self.alpha)\n",
    "\n",
    "        self.pcoll.set_offsets([[xp, yp]])\n",
    "\n",
    "        self.label.set_text(f'alpha: {self.alpha:.2f}')\n",
    "        xo, yo = label_offsets(self.alpha)\n",
    "        self.label.set_position((xp+xo, yp+yo))\n",
    "        return [self.patches1, self.patches2, self.pcoll, self.label]\n",
    "    \n",
    "    def on_press(self, event):\n",
    "        'on button press we will see if the mouse is over us and store some data'\n",
    "        self.x0, self.y0 = event.xdata, event.ydata\n",
    "        if self.rect.contains(event)[0]:\n",
    "            self.trigger = 'histogram' \n",
    "        elif self.pcoll.contains(event)[0]:\n",
    "            self.trigger = 'scatter'\n",
    "        else:\n",
    "            self.trigger = None\n",
    "        print(self.trigger, self.x0, self.y0)\n",
    "        return\n",
    "    \n",
    "    def on_motion(self, event):\n",
    "        pass\n",
    "    \n",
    "    def on_release(self, event):\n",
    "        #selected dot, move somewhere on line\n",
    "        contains, attrs = self.line.contains(event)\n",
    "        if self.trigger == 'histogram' and self.rect.contains(event)[0]:\n",
    "            self.alpha = np.clip(event.xdata, -1, 1)\n",
    "            print(\"rectangle:\", self.alpha)\n",
    "        elif self.trigger == 'scatter' and contains:\n",
    "            #since line map directly to list of alphas, grab any random alpha\n",
    "            ind = np.random.choice(attrs['ind'])\n",
    "            self.alpha = self.alphas[ind]\n",
    "            print(\"scatter:\", self.alpha)   \n",
    "        else:\n",
    "            return\n",
    "        self.trigger = None\n",
    "        return self.update_plot()\n",
    "\n"
   ]
  },
  {
   "cell_type": "code",
   "execution_count": 11,
   "metadata": {},
   "outputs": [
    {
     "data": {
      "application/vnd.jupyter.widget-view+json": {
       "model_id": "ee338d3dbc044b1d80067a6f78de0daa",
       "version_major": 2,
       "version_minor": 0
      },
      "text/plain": [
       "Canvas(toolbar=Toolbar(toolitems=[('Home', 'Reset original view', 'home', 'home'), ('Back', 'Back to previous …"
      ]
     },
     "metadata": {},
     "output_type": "display_data"
    },
    {
     "data": {
      "text/plain": [
       "<__main__.OLS_ALPHA at 0x7f437d1dc340>"
      ]
     },
     "execution_count": 11,
     "metadata": {},
     "output_type": "execute_result"
    }
   ],
   "source": [
    "OLS_ALPHA()"
   ]
  },
  {
   "cell_type": "code",
   "execution_count": 30,
   "metadata": {},
   "outputs": [
    {
     "data": {
      "text/plain": [
       "1.2"
      ]
     },
     "execution_count": 30,
     "metadata": {},
     "output_type": "execute_result"
    }
   ],
   "source": [
    "np.clip(1.2,1,2.2)"
   ]
  },
  {
   "cell_type": "code",
   "execution_count": null,
   "metadata": {},
   "outputs": [],
   "source": []
  }
 ],
 "metadata": {
  "celltoolbar": "Slideshow",
  "kernelspec": {
   "display_name": "Python 3",
   "language": "python",
   "name": "python3"
  },
  "language_info": {
   "codemirror_mode": {
    "name": "ipython",
    "version": 3
   },
   "file_extension": ".py",
   "mimetype": "text/x-python",
   "name": "python",
   "nbconvert_exporter": "python",
   "pygments_lexer": "ipython3",
   "version": "3.8.0"
  },
  "latex_envs": {
   "LaTeX_envs_menu_present": true,
   "autoclose": false,
   "autocomplete": true,
   "bibliofile": "biblio.bib",
   "cite_by": "apalike",
   "current_citInitial": 1,
   "eqLabelWithNumbers": true,
   "eqNumInitial": 1,
   "hotkeys": {
    "equation": "Ctrl-E",
    "itemize": "Ctrl-I"
   },
   "labels_anchors": false,
   "latex_user_defs": false,
   "report_style_numbering": false,
   "user_envs_cfg": false
  },
  "varInspector": {
   "cols": {
    "lenName": 16,
    "lenType": 16,
    "lenVar": 40
   },
   "kernels_config": {
    "python": {
     "delete_cmd_postfix": "",
     "delete_cmd_prefix": "del ",
     "library": "var_list.py",
     "varRefreshCmd": "print(var_dic_list())"
    },
    "r": {
     "delete_cmd_postfix": ") ",
     "delete_cmd_prefix": "rm(",
     "library": "var_list.r",
     "varRefreshCmd": "cat(var_dic_list()) "
    }
   },
   "types_to_exclude": [
    "module",
    "function",
    "builtin_function_or_method",
    "instance",
    "_Feature"
   ],
   "window_display": false
  }
 },
 "nbformat": 4,
 "nbformat_minor": 4
}
