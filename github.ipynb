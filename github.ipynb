{
 "cells": [
  {
   "cell_type": "code",
   "execution_count": 20,
   "metadata": {},
   "outputs": [],
   "source": [
    "import requests\n",
    "import pandas as pd\n",
    "from tqdm import tqdm_notebook\n",
    "URL = 'https://api.github.com/repos/matplotlib/matplotlib'"
   ]
  },
  {
   "cell_type": "code",
   "execution_count": 21,
   "metadata": {},
   "outputs": [
    {
     "data": {
      "application/vnd.jupyter.widget-view+json": {
       "model_id": "f44cd9671f07406daea8e6e4546350e1",
       "version_major": 2,
       "version_minor": 0
      },
      "text/plain": [
       "HBox(children=(IntProgress(value=0, max=9), HTML(value='')))"
      ]
     },
     "metadata": {},
     "output_type": "display_data"
    }
   ],
   "source": [
    "contrib = []\n",
    "for p, _ in enumerate(tqdm_notebook(range(0,828,100))):\n",
    "    r = requests.get(f'{URL}/contributors', params={'page':p+1, 'per_page':100, 'anon':True})\n",
    "    contrib.extend(r.json())"
   ]
  },
  {
   "cell_type": "code",
   "execution_count": 22,
   "metadata": {},
   "outputs": [
    {
     "data": {
      "text/plain": [
       "200"
      ]
     },
     "execution_count": 22,
     "metadata": {},
     "output_type": "execute_result"
    }
   ],
   "source": [
    "r.status_code"
   ]
  },
  {
   "cell_type": "code",
   "execution_count": 23,
   "metadata": {},
   "outputs": [],
   "source": [
    "cdf = pd.io.json.json_normalize(contrib)"
   ]
  },
  {
   "cell_type": "code",
   "execution_count": 24,
   "metadata": {},
   "outputs": [
    {
     "data": {
      "text/plain": [
       "count     900.000000\n",
       "mean       33.981111\n",
       "std       244.893236\n",
       "min         1.000000\n",
       "25%         1.000000\n",
       "50%         2.000000\n",
       "75%         6.000000\n",
       "max      4463.000000\n",
       "Name: contributions, dtype: float64"
      ]
     },
     "execution_count": 24,
     "metadata": {},
     "output_type": "execute_result"
    }
   ],
   "source": [
    "cdf['contributions'].describe()"
   ]
  },
  {
   "cell_type": "code",
   "execution_count": 25,
   "metadata": {},
   "outputs": [
    {
     "data": {
      "image/png": "[encoded data removed]",
      "text/plain": [
       "<Figure size 432x288 with 1 Axes>"
      ]
     },
     "metadata": {
      "needs_background": "light"
     },
     "output_type": "display_data"
    }
   ],
   "source": [
    "# distribution of contributor commit counts \n",
    "%matplotlib inline\n",
    "import seaborn as sns\n",
    "_ = sns.distplot(cdf['contributions'])"
   ]
  },
  {
   "cell_type": "code",
   "execution_count": 26,
   "metadata": {},
   "outputs": [
    {
     "data": {
      "application/vnd.jupyter.widget-view+json": {
       "model_id": "bad8aafea45a44039525b7975d39d9b1",
       "version_major": 2,
       "version_minor": 0
      },
      "text/plain": [
       "HBox(children=(IntProgress(value=0, max=91), HTML(value='')))"
      ]
     },
     "metadata": {},
     "output_type": "display_data"
    }
   ],
   "source": [
    "pulls = []\n",
    "for p, _ in enumerate(tqdm_notebook(range(0,9042,100))):\n",
    "    r = requests.get(f'{URL}/pulls', params={'page':p+1, 'per_page':100, 'state':'all'})\n",
    "    pulls.extend(r.json())"
   ]
  },
  {
   "cell_type": "code",
   "execution_count": 27,
   "metadata": {},
   "outputs": [
    {
     "ename": "AttributeError",
     "evalue": "'str' object has no attribute 'items'",
     "output_type": "error",
     "traceback": [
      "\u001b[0;31m---------------------------------------------------------------------------\u001b[0m",
      "\u001b[0;31mAttributeError\u001b[0m                            Traceback (most recent call last)",
      "\u001b[0;32m<ipython-input-27-ede9103ae533>\u001b[0m in \u001b[0;36m<module>\u001b[0;34m\u001b[0m\n\u001b[0;32m----> 1\u001b[0;31m \u001b[0mpdf\u001b[0m \u001b[0;34m=\u001b[0m \u001b[0mpd\u001b[0m\u001b[0;34m.\u001b[0m\u001b[0mio\u001b[0m\u001b[0;34m.\u001b[0m\u001b[0mjson\u001b[0m\u001b[0;34m.\u001b[0m\u001b[0mjson_normalize\u001b[0m\u001b[0;34m(\u001b[0m\u001b[0mpulls\u001b[0m\u001b[0;34m)\u001b[0m\u001b[0;34m\u001b[0m\u001b[0;34m\u001b[0m\u001b[0m\n\u001b[0m",
      "\u001b[0;32m~/miniconda3/envs/mpl/lib/python3.7/site-packages/pandas/io/json/_normalize.py\u001b[0m in \u001b[0;36mjson_normalize\u001b[0;34m(data, record_path, meta, meta_prefix, record_prefix, errors, sep, max_level)\u001b[0m\n\u001b[1;32m    264\u001b[0m             \u001b[0;31m# TODO: handle record value which are lists, at least error\u001b[0m\u001b[0;34m\u001b[0m\u001b[0;34m\u001b[0m\u001b[0;34m\u001b[0m\u001b[0m\n\u001b[1;32m    265\u001b[0m             \u001b[0;31m#       reasonably\u001b[0m\u001b[0;34m\u001b[0m\u001b[0;34m\u001b[0m\u001b[0;34m\u001b[0m\u001b[0m\n\u001b[0;32m--> 266\u001b[0;31m             \u001b[0mdata\u001b[0m \u001b[0;34m=\u001b[0m \u001b[0mnested_to_record\u001b[0m\u001b[0;34m(\u001b[0m\u001b[0mdata\u001b[0m\u001b[0;34m,\u001b[0m \u001b[0msep\u001b[0m\u001b[0;34m=\u001b[0m\u001b[0msep\u001b[0m\u001b[0;34m,\u001b[0m \u001b[0mmax_level\u001b[0m\u001b[0;34m=\u001b[0m\u001b[0mmax_level\u001b[0m\u001b[0;34m)\u001b[0m\u001b[0;34m\u001b[0m\u001b[0;34m\u001b[0m\u001b[0m\n\u001b[0m\u001b[1;32m    267\u001b[0m         \u001b[0;32mreturn\u001b[0m \u001b[0mDataFrame\u001b[0m\u001b[0;34m(\u001b[0m\u001b[0mdata\u001b[0m\u001b[0;34m)\u001b[0m\u001b[0;34m\u001b[0m\u001b[0;34m\u001b[0m\u001b[0m\n\u001b[1;32m    268\u001b[0m     \u001b[0;32melif\u001b[0m \u001b[0;32mnot\u001b[0m \u001b[0misinstance\u001b[0m\u001b[0;34m(\u001b[0m\u001b[0mrecord_path\u001b[0m\u001b[0;34m,\u001b[0m \u001b[0mlist\u001b[0m\u001b[0;34m)\u001b[0m\u001b[0;34m:\u001b[0m\u001b[0;34m\u001b[0m\u001b[0;34m\u001b[0m\u001b[0m\n",
      "\u001b[0;32m~/miniconda3/envs/mpl/lib/python3.7/site-packages/pandas/io/json/_normalize.py\u001b[0m in \u001b[0;36mnested_to_record\u001b[0;34m(ds, prefix, sep, level, max_level)\u001b[0m\n\u001b[1;32m     82\u001b[0m     \u001b[0;32mfor\u001b[0m \u001b[0md\u001b[0m \u001b[0;32min\u001b[0m \u001b[0mds\u001b[0m\u001b[0;34m:\u001b[0m\u001b[0;34m\u001b[0m\u001b[0;34m\u001b[0m\u001b[0m\n\u001b[1;32m     83\u001b[0m         \u001b[0mnew_d\u001b[0m \u001b[0;34m=\u001b[0m \u001b[0mcopy\u001b[0m\u001b[0;34m.\u001b[0m\u001b[0mdeepcopy\u001b[0m\u001b[0;34m(\u001b[0m\u001b[0md\u001b[0m\u001b[0;34m)\u001b[0m\u001b[0;34m\u001b[0m\u001b[0;34m\u001b[0m\u001b[0m\n\u001b[0;32m---> 84\u001b[0;31m         \u001b[0;32mfor\u001b[0m \u001b[0mk\u001b[0m\u001b[0;34m,\u001b[0m \u001b[0mv\u001b[0m \u001b[0;32min\u001b[0m \u001b[0md\u001b[0m\u001b[0;34m.\u001b[0m\u001b[0mitems\u001b[0m\u001b[0;34m(\u001b[0m\u001b[0;34m)\u001b[0m\u001b[0;34m:\u001b[0m\u001b[0;34m\u001b[0m\u001b[0;34m\u001b[0m\u001b[0m\n\u001b[0m\u001b[1;32m     85\u001b[0m             \u001b[0;31m# each key gets renamed with prefix\u001b[0m\u001b[0;34m\u001b[0m\u001b[0;34m\u001b[0m\u001b[0;34m\u001b[0m\u001b[0m\n\u001b[1;32m     86\u001b[0m             \u001b[0;32mif\u001b[0m \u001b[0;32mnot\u001b[0m \u001b[0misinstance\u001b[0m\u001b[0;34m(\u001b[0m\u001b[0mk\u001b[0m\u001b[0;34m,\u001b[0m \u001b[0mstr\u001b[0m\u001b[0;34m)\u001b[0m\u001b[0;34m:\u001b[0m\u001b[0;34m\u001b[0m\u001b[0;34m\u001b[0m\u001b[0m\n",
      "\u001b[0;31mAttributeError\u001b[0m: 'str' object has no attribute 'items'"
     ]
    }
   ],
   "source": [
    "pdf = pd.io.json.json_normalize(pulls)"
   ]
  },
  {
   "cell_type": "code",
   "execution_count": 35,
   "metadata": {},
   "outputs": [
    {
     "data": {
      "application/vnd.jupyter.widget-view+json": {
       "model_id": "4b65bf86f8564467ab35abddd9e80bb1",
       "version_major": 2,
       "version_minor": 0
      },
      "text/plain": [
       "HBox(children=(IntProgress(value=0, max=5180), HTML(value='')))"
      ]
     },
     "metadata": {},
     "output_type": "display_data"
    },
    {
     "name": "stdout",
     "output_type": "stream",
     "text": [
      "'str' object has no attribute 'values' message\n",
      "'str' object has no attribute 'values' documentation_url\n",
      "'str' object has no attribute 'values' message\n",
      "'str' object has no attribute 'values' documentation_url\n",
      "'str' object has no attribute 'values' message\n",
      "'str' object has no attribute 'values' documentation_url\n",
      "'str' object has no attribute 'values' message\n",
      "'str' object has no attribute 'values' documentation_url\n",
      "'str' object has no attribute 'values' message\n",
      "'str' object has no attribute 'values' documentation_url\n",
      "'str' object has no attribute 'values' message\n",
      "'str' object has no attribute 'values' documentation_url\n",
      "'str' object has no attribute 'values' message\n",
      "'str' object has no attribute 'values' documentation_url\n",
      "'str' object has no attribute 'values' message\n",
      "'str' object has no attribute 'values' documentation_url\n",
      "'str' object has no attribute 'values' message\n",
      "'str' object has no attribute 'values' documentation_url\n",
      "'str' object has no attribute 'values' message\n",
      "'str' object has no attribute 'values' documentation_url\n",
      "'str' object has no attribute 'values' message\n",
      "'str' object has no attribute 'values' documentation_url\n",
      "'str' object has no attribute 'values' message\n",
      "'str' object has no attribute 'values' documentation_url\n",
      "'str' object has no attribute 'values' message\n",
      "'str' object has no attribute 'values' documentation_url\n",
      "'str' object has no attribute 'values' message\n",
      "'str' object has no attribute 'values' documentation_url\n",
      "'str' object has no attribute 'values' message\n",
      "'str' object has no attribute 'values' documentation_url\n",
      "'str' object has no attribute 'values' message\n",
      "'str' object has no attribute 'values' documentation_url\n",
      "'str' object has no attribute 'values' message\n",
      "'str' object has no attribute 'values' documentation_url\n",
      "'str' object has no attribute 'values' message\n",
      "'str' object has no attribute 'values' documentation_url\n",
      "'str' object has no attribute 'values' message\n",
      "'str' object has no attribute 'values' documentation_url\n",
      "'str' object has no attribute 'values' message\n",
      "'str' object has no attribute 'values' documentation_url\n",
      "'str' object has no attribute 'values' message\n",
      "'str' object has no attribute 'values' documentation_url\n",
      "'str' object has no attribute 'values' message\n",
      "'str' object has no attribute 'values' documentation_url\n",
      "'str' object has no attribute 'values' message\n",
      "'str' object has no attribute 'values' documentation_url\n",
      "'str' object has no attribute 'values' message\n",
      "'str' object has no attribute 'values' documentation_url\n",
      "'str' object has no attribute 'values' message\n",
      "'str' object has no attribute 'values' documentation_url\n",
      "'str' object has no attribute 'values' message\n",
      "'str' object has no attribute 'values' documentation_url\n",
      "'str' object has no attribute 'values' message\n",
      "'str' object has no attribute 'values' documentation_url\n",
      "'str' object has no attribute 'values' message\n",
      "'str' object has no attribute 'values' documentation_url\n",
      "'str' object has no attribute 'values' message\n",
      "'str' object has no attribute 'values' documentation_url\n",
      "'str' object has no attribute 'values' message\n",
      "'str' object has no attribute 'values' documentation_url\n",
      "'str' object has no attribute 'values' message\n",
      "'str' object has no attribute 'values' documentation_url\n",
      "'str' object has no attribute 'values' message\n",
      "'str' object has no attribute 'values' documentation_url\n",
      "'str' object has no attribute 'values' message\n",
      "'str' object has no attribute 'values' documentation_url\n",
      "'str' object has no attribute 'values' message\n",
      "'str' object has no attribute 'values' documentation_url\n",
      "'str' object has no attribute 'values' message\n",
      "'str' object has no attribute 'values' documentation_url\n",
      "'str' object has no attribute 'values' message\n",
      "'str' object has no attribute 'values' documentation_url\n",
      "'str' object has no attribute 'values' message\n",
      "'str' object has no attribute 'values' documentation_url\n",
      "'str' object has no attribute 'values' message\n",
      "'str' object has no attribute 'values' documentation_url\n",
      "'str' object has no attribute 'values' message\n",
      "'str' object has no attribute 'values' documentation_url\n",
      "'str' object has no attribute 'values' message\n",
      "'str' object has no attribute 'values' documentation_url\n"
     ]
    }
   ],
   "source": [
    "dfs = []\n",
    "for p in tqdm_notebook(pulls):\n",
    "    try:\n",
    "        df = pd.io.json.json_normalize(p)\n",
    "        dfs.append(df)\n",
    "    except AttributeError as e:\n",
    "        print(e, p)"
   ]
  },
  {
   "cell_type": "code",
   "execution_count": 36,
   "metadata": {},
   "outputs": [
    {
     "name": "stderr",
     "output_type": "stream",
     "text": [
      "/home/hannah/miniconda3/envs/mpl/lib/python3.7/site-packages/ipykernel_launcher.py:1: FutureWarning: Sorting because non-concatenation axis is not aligned. A future version\n",
      "of pandas will change to not sort by default.\n",
      "\n",
      "To accept the future behavior, pass 'sort=False'.\n",
      "\n",
      "To retain the current behavior and silence the warning, pass 'sort=True'.\n",
      "\n",
      "  \"\"\"Entry point for launching an IPython kernel.\n"
     ]
    }
   ],
   "source": [
    "pdf = pd.concat(dfs)"
   ]
  },
  {
   "cell_type": "code",
   "execution_count": 38,
   "metadata": {},
   "outputs": [
    {
     "data": {
      "text/plain": [
       "Index(['_links.comments.href', '_links.commits.href', '_links.html.href',\n",
       "       '_links.issue.href', '_links.review_comment.href',\n",
       "       '_links.review_comments.href', '_links.self.href',\n",
       "       '_links.statuses.href', 'assignee', 'assignee.avatar_url',\n",
       "       ...\n",
       "       'user.login', 'user.node_id', 'user.organizations_url',\n",
       "       'user.received_events_url', 'user.repos_url', 'user.site_admin',\n",
       "       'user.starred_url', 'user.subscriptions_url', 'user.type', 'user.url'],\n",
       "      dtype='object', length=335)"
      ]
     },
     "execution_count": 38,
     "metadata": {},
     "output_type": "execute_result"
    }
   ],
   "source": [
    "#https://developer.github.com/v3/pulls/#list-pull-requests\n",
    "\"state\": \"open\",\n",
    "\"created_at\": \"2011-01-26T19:01:12Z\",\n",
    "\"closed_at\": \"2011-01-26T19:01:12Z\",\n",
    "\"merged_at\": \"2011-01-26T19:01:12Z\",\n",
    "pdf.columns,"
   ]
  },
  {
   "cell_type": "code",
   "execution_count": 39,
   "metadata": {},
   "outputs": [],
   "source": [
    "psub = pdf[['user.login', 'state', 'created_at', 'closed_at', 'merged_at']]"
   ]
  },
  {
   "cell_type": "code",
   "execution_count": 56,
   "metadata": {},
   "outputs": [
    {
     "data": {
      "image/png": "[encoded data removed]",
      "text/plain": [
       "<Figure size 1080x360 with 1 Axes>"
      ]
     },
     "metadata": {
      "needs_background": "light"
     },
     "output_type": "display_data"
    }
   ],
   "source": [
    "import matplotlib.pyplot as plt\n",
    "fig, ax = plt.subplots(figsize=(15,5))\n",
    "ax.set_title(\"open prs\")\n",
    "_ = psub[(psub['created_at']>'2018-07-17') & \n",
    "         psub['state'].str.match('open')]['user.login'].value_counts().plot.bar(ax=ax)"
   ]
  },
  {
   "cell_type": "code",
   "execution_count": 66,
   "metadata": {},
   "outputs": [
    {
     "data": {
      "text/plain": [
       "count                       4341\n",
       "mean     12 days 04:22:55.410504\n",
       "std      43 days 08:00:06.731297\n",
       "min              0 days 00:01:47\n",
       "25%              0 days 04:17:42\n",
       "50%              0 days 19:23:04\n",
       "75%              4 days 21:42:41\n",
       "max            684 days 06:26:50\n",
       "dtype: object"
      ]
     },
     "execution_count": 66,
     "metadata": {},
     "output_type": "execute_result"
    }
   ],
   "source": [
    "merge_rate = pd.to_datetime(psub['merged_at']) - pd.to_datetime(psub['created_at'])\n",
    "merge_rate.describe()"
   ]
  },
  {
   "cell_type": "code",
   "execution_count": 87,
   "metadata": {},
   "outputs": [
    {
     "data": {
      "image/png": "[encoded data removed]",
      "text/plain": [
       "<Figure size 432x288 with 1 Axes>"
      ]
     },
     "metadata": {
      "needs_background": "light"
     },
     "output_type": "display_data"
    }
   ],
   "source": [
    "fig, ax = plt.subplots()\n",
    "_ = sns.distplot(merge_rate.dropna(how='all').dt.days, ax=ax)\n",
    "_ = ax.set_xlabel(\"# of days to merge PR\")"
   ]
  },
  {
   "cell_type": "code",
   "execution_count": null,
   "metadata": {},
   "outputs": [],
   "source": []
  }
 ],
 "metadata": {
  "kernelspec": {
   "display_name": "Python 3",
   "language": "python",
   "name": "python3"
  },
  "language_info": {
   "codemirror_mode": {
    "name": "ipython",
    "version": 3
   },
   "file_extension": ".py",
   "mimetype": "text/x-python",
   "name": "python",
   "nbconvert_exporter": "python",
   "pygments_lexer": "ipython3",
   "version": "3.7.3"
  }
 },
 "nbformat": 4,
 "nbformat_minor": 2
}
