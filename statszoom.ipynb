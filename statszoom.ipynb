{
 "cells": [
  {
   "cell_type": "code",
   "execution_count": 1,
   "metadata": {},
   "outputs": [],
   "source": [
    "%matplotlib widget"
   ]
  },
  {
   "cell_type": "code",
   "execution_count": 28,
   "metadata": {},
   "outputs": [],
   "source": [
    "import matplotlib.pyplot as plt\n",
    "import matplotlib.dates as mdates\n",
    "import pandas as pd\n",
    "import pandas.plotting._matplotlib.converter as pdtc\n",
    "import numpy as np\n",
    "import itertools"
   ]
  },
  {
   "cell_type": "code",
   "execution_count": 59,
   "metadata": {},
   "outputs": [
    {
     "name": "stderr",
     "output_type": "stream",
     "text": [
      "<ipython-input-59-d008b1e13a2f>:10: RuntimeWarning: More than 20 figures have been opened. Figures created through the pyplot interface (`matplotlib.pyplot.figure`) are retained until explicitly closed and may consume too much memory. (To control this warning, see the rcParam `figure.max_open_warning`).\n",
      "  fig, (ax) = plt.subplots(constrained_layout=True)\n"
     ]
    },
    {
     "data": {
      "application/vnd.jupyter.widget-view+json": {
       "model_id": "8e3a7c7df0bf45f58e1dc1f067ae3f71",
       "version_major": 2,
       "version_minor": 0
      },
      "text/plain": [
       "Canvas(toolbar=Toolbar(toolitems=[('Home', 'Reset original view', 'home', 'home'), ('Back', 'Back to previous …"
      ]
     },
     "metadata": {},
     "output_type": "display_data"
    },
    {
     "data": {
      "text/plain": [
       "0"
      ]
     },
     "execution_count": 59,
     "metadata": {},
     "output_type": "execute_result"
    }
   ],
   "source": [
    "# Some toy data\n",
    "df = pd.DataFrame(index=pd.date_range(start='1/1/2019', end='12/11/2019', freq='D'))\n",
    "df['inverseD'] = [pdtc.get_datevalue(date, 'D') for date in df.index]\n",
    " \n",
    "x = np.linspace(-10*np.pi, 10*np.pi, len(df.index))\n",
    "df['sin'] = np.sin(x)\n",
    "df['cos'] = np.cos(x)\n",
    "\n",
    "# Scatter plot\n",
    "fig, (ax) = plt.subplots(constrained_layout=True)\n",
    "df[['sin', 'cos']].plot(ax=ax)\n",
    "stats = df.describe().T\n",
    "nrows, ncols = stats.shape\n",
    "\n",
    "table = ax.table(np.around(stats.values, -2), colLabels=stats.columns.to_list(), \n",
    "          rowLabels=stats.index.to_list(), loc='top', fontsize=12)\n",
    "\n",
    "# Declare and register callbacks\n",
    "def on_xlims_change(axes):\n",
    "    start, end = ax.get_xlim()\n",
    "    sub = df[(start<=df['inverseD']) & (df['inverseD'] <=end)]\n",
    "    stats = sub.describe().T\n",
    "    for r, c in list(itertools.product(range(nrows-1), range(ncols-1))):\n",
    "        table[r+1, c+1].get_text().set_text(f'{stats.values[r,c]:.2f}')\n",
    "    return [table]\n",
    "    \n",
    "ax.callbacks.connect('xlim_changed', on_xlims_change)"
   ]
  },
  {
   "cell_type": "code",
   "execution_count": null,
   "metadata": {},
   "outputs": [],
   "source": []
  }
 ],
 "metadata": {
  "kernelspec": {
   "display_name": "Python 3",
   "language": "python",
   "name": "python3"
  },
  "language_info": {
   "codemirror_mode": {
    "name": "ipython",
    "version": 3
   },
   "file_extension": ".py",
   "mimetype": "text/x-python",
   "name": "python",
   "nbconvert_exporter": "python",
   "pygments_lexer": "ipython3",
   "version": "3.8.0"
  }
 },
 "nbformat": 4,
 "nbformat_minor": 4
}
