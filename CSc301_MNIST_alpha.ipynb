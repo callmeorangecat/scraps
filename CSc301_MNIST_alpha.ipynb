{
 "cells": [
  {
   "cell_type": "markdown",
   "metadata": {
    "slideshow": {
     "slide_type": "slide"
    }
   },
   "source": [
    "Example. As an example we apply least squares classification to the MNIST data set described in §4.3. The (training) data set contains 60,000 images of size 28 by 28. The number of examples per digit varies between 5421 (for digit five) and 6742 (for digit one). The pixel intensities are scaled to lie between 0 and 1. There is also a separate test set containing 10000 images."
   ]
  },
  {
   "cell_type": "code",
   "execution_count": 3,
   "metadata": {
    "slideshow": {
     "slide_type": "slide"
    }
   },
   "outputs": [
    {
     "ename": "ModuleNotFoundError",
     "evalue": "No module named 'pandas'",
     "output_type": "error",
     "traceback": [
      "\u001b[0;31m---------------------------------------------------------------------------\u001b[0m",
      "\u001b[0;31mModuleNotFoundError\u001b[0m                       Traceback (most recent call last)",
      "\u001b[0;32m<ipython-input-3-dac72896af23>\u001b[0m in \u001b[0;36m<module>\u001b[0;34m()\u001b[0m\n\u001b[1;32m      3\u001b[0m \u001b[0;32mfrom\u001b[0m \u001b[0mpathlib\u001b[0m \u001b[0;32mimport\u001b[0m \u001b[0mPath\u001b[0m\u001b[0;34m\u001b[0m\u001b[0m\n\u001b[1;32m      4\u001b[0m \u001b[0;32mimport\u001b[0m \u001b[0mnumpy\u001b[0m \u001b[0;32mas\u001b[0m \u001b[0mnp\u001b[0m\u001b[0;34m\u001b[0m\u001b[0m\n\u001b[0;32m----> 5\u001b[0;31m \u001b[0;32mimport\u001b[0m \u001b[0mpandas\u001b[0m \u001b[0;32mas\u001b[0m \u001b[0mpd\u001b[0m\u001b[0;34m\u001b[0m\u001b[0m\n\u001b[0m\u001b[1;32m      6\u001b[0m \u001b[0;32mimport\u001b[0m \u001b[0mmatplotlib\u001b[0m\u001b[0;34m.\u001b[0m\u001b[0mpyplot\u001b[0m \u001b[0;32mas\u001b[0m \u001b[0mplt\u001b[0m\u001b[0;34m\u001b[0m\u001b[0m\n\u001b[1;32m      7\u001b[0m \u001b[0;32mimport\u001b[0m \u001b[0mmatplotlib\u001b[0m\u001b[0;34m.\u001b[0m\u001b[0mpatches\u001b[0m \u001b[0;32mas\u001b[0m \u001b[0mmpatches\u001b[0m\u001b[0;34m\u001b[0m\u001b[0m\n",
      "\u001b[0;31mModuleNotFoundError\u001b[0m: No module named 'pandas'"
     ]
    }
   ],
   "source": [
    "import struct\n",
    "import gzip\n",
    "from pathlib import Path\n",
    "import numpy as np\n",
    "import pandas as pd\n",
    "import matplotlib.pyplot as plt\n",
    "import matplotlib.patches as mpatches\n",
    "import matplotlib.animation as animation\n",
    "from IPython.display import HTML\n",
    "%matplotlib notebook"
   ]
  },
  {
   "cell_type": "code",
   "execution_count": null,
   "metadata": {
    "slideshow": {
     "slide_type": "slide"
    }
   },
   "outputs": [],
   "source": [
    "# create dictionaries to store the data\n",
    "train = dict()\n",
    "test = dict()"
   ]
  },
  {
   "cell_type": "code",
   "execution_count": null,
   "metadata": {
    "slideshow": {
     "slide_type": "slide"
    }
   },
   "outputs": [],
   "source": [
    "def get_images(filename):\n",
    "    with gzip.GzipFile(Path('mnist', filename), 'rb') as f:\n",
    "        magic, size, rows, cols = struct.unpack(\">IIII\", f.read(16))\n",
    "        images = np.frombuffer(f.read(), dtype=np.dtype('B'))\n",
    "    return images.reshape(size, rows,cols)\n",
    "\n",
    "train['image'] = get_images('train-images-idx3-ubyte.gz')\n",
    "test['image'] = get_images('t10k-images-idx3-ubyte.gz')"
   ]
  },
  {
   "cell_type": "code",
   "execution_count": null,
   "metadata": {
    "slideshow": {
     "slide_type": "slide"
    }
   },
   "outputs": [],
   "source": [
    "def get_labels(filename):\n",
    "    with gzip.GzipFile(Path('mnist', filename), 'rb') as f:\n",
    "        magic, num = struct.unpack(\">II\", f.read(8))\n",
    "        labels = np.frombuffer(f.read(), dtype=np.dtype('B'))\n",
    "    return labels"
   ]
  },
  {
   "cell_type": "code",
   "execution_count": null,
   "metadata": {
    "slideshow": {
     "slide_type": "slide"
    }
   },
   "outputs": [],
   "source": [
    "train['label'] = get_labels('train-labels-idx1-ubyte.gz')\n",
    "test['label'] = get_labels('t10k-labels-idx1-ubyte.gz')"
   ]
  },
  {
   "cell_type": "markdown",
   "metadata": {
    "slideshow": {
     "slide_type": "slide"
    }
   },
   "source": [
    "For each digit, we can define a Boolean classifier that distinguishes the digit from the other nine digits. Here we will consider classifiers to distinguish the digit zero. In a first experiment, we use the n = 28 × 28 = 784 pixel intensities as features in the least squares classifier (12.1). "
   ]
  },
  {
   "cell_type": "code",
   "execution_count": null,
   "metadata": {
    "slideshow": {
     "slide_type": "slide"
    }
   },
   "outputs": [],
   "source": [
    "#scales images to 0-1\n",
    "x = (train['image'].reshape(60000, -1)/255)\n",
    "#train only on 0, code 0 as +1, >0 as 1\n",
    "y = (train['label']>0).astype(int)*-2 + 1"
   ]
  },
  {
   "cell_type": "code",
   "execution_count": null,
   "metadata": {
    "slideshow": {
     "slide_type": "slide"
    }
   },
   "outputs": [],
   "source": [
    "from sklearn import linear_model as slm\n",
    "lm = slm.LinearRegression()\n",
    "lm.fit(x, y)\n",
    "yhat = lm.predict(x)"
   ]
  },
  {
   "cell_type": "code",
   "execution_count": null,
   "metadata": {
    "slideshow": {
     "slide_type": "slide"
    }
   },
   "outputs": [],
   "source": [
    "fig, (ax, ax2) = plt.subplots(ncols=2, figsize=(10,5))\n",
    "im = ax.imshow(lm.coef_.reshape(28,28), cmap=\"RdBu\", vmin=-.3, vmax=.3)\n",
    "cb = fig.colorbar(im, ax=ax, fraction=.045)\n",
    "cb.set_ticks([-.3, -.15, 0, .15, .3])\n",
    "cb.set_ticklabels([r\"$\\leq.3$\", \"-.15\", \"0\", \".15\", \"$\\geq.3$\"])\n",
    "\n",
    "im2 = ax2.imshow(x[1000].reshape(28,28), cmap='gray')\n",
    "cb2 = fig.colorbar(im2, ax=ax2, fraction=.045)"
   ]
  },
  {
   "cell_type": "code",
   "execution_count": null,
   "metadata": {
    "slideshow": {
     "slide_type": "slide"
    }
   },
   "outputs": [],
   "source": [
    "alphas = np.arange(-1.1, 1.1, .1)\n",
    "tpr = []\n",
    "fpr = []\n",
    "for i in alphas:\n",
    "    yhat_roc = np.sign(yhat + i)\n",
    "    tp = ((y==1) & (yhat_roc==1)).sum()\n",
    "    tn = ((y==-1) & (yhat_roc==-1)).sum()\n",
    "    fp = ((y==-1) & (yhat_roc==1)).sum()\n",
    "    fn = ((y==1) & (yhat_roc==-1)).sum()\n",
    "    \n",
    "    tpr.append(tp/(tp+fn))\n",
    "    fpr.append(fp/(fp+tn))"
   ]
  },
  {
   "cell_type": "code",
   "execution_count": null,
   "metadata": {
    "slideshow": {
     "slide_type": "slide"
    }
   },
   "outputs": [],
   "source": [
    "%%capture\n",
    "fig, (ax1, ax2) = plt.subplots(ncols=2, figsize=(12, 4), \n",
    "                               gridspec_kw ={'width_ratios':[1.5,1]})\n",
    "\n",
    "_, _, patches1 = ax1.hist([], label=\"y = +1\", color=\"tab:blue\", \n",
    "                           bins=50, density=True, alpha=.75)\n",
    "_, _, patches2 = ax1.hist([], label=\"y = -1\", color=\"tab:orange\",\n",
    "                           bins=50, density=True, alpha=.75)\n",
    "\n",
    "_ = ax1.axvspan(0, 3, facecolor= 'lavender', label=r\"$\\hat{y}$ = +1\", zorder=-6)\n",
    "_ = ax1.axvspan(-3, 0, facecolor='cornsilk', label=r\"$\\hat{y}$ = -1\", zorder=-6)\n",
    "_ = ax1.axvline(x=0, color='k')\n",
    "_ = ax1.set_xlim(-3,3)\n",
    "_ = ax1.legend(ncol=2, loc=1, facecolor='white', framealpha=.95)\n",
    "\n",
    "_ = ax2.plot(fpr, tpr, color='darkseagreen')\n",
    "_ = ax2.set_xlabel(\"False Positive\")\n",
    "_ = ax2.set_ylabel(\"True Positive\")\n",
    "\n",
    "label = ax2.text([], [], \"\",  color='mediumseagreen')\n",
    "\n",
    "def init():\n",
    "    for p1, p2, in zip(patches1, patches2):\n",
    "        p1.set_visible(False)\n",
    "        p2.set_visible(False)\n",
    "    return [patches1, patches2]\n",
    "\n",
    "def animate(i):\n",
    "    for p in ax1.patches:\n",
    "        if isinstance(p, mpatches.Rectangle):\n",
    "               p.set_visible(False)\n",
    "    _, _, patches1 = ax1.hist(yhat[y==1]-alphas[i], color='tab:blue', bins=50, density=True, alpha=.75)\n",
    "    _, _, patches2 = ax1.hist(yhat[y==-1]-alphas[i], color=\"tab:orange\", bins=50, density=True, alpha=.75)\n",
    "   \n",
    "\n",
    "    ax2.collections = []   \n",
    "    _ = ax2.scatter(fpr[i], tpr[i], s=30, c='seagreen', zorder=5)\n",
    "    label.set_text(f'alpha: {alphas[i]:.2f}')\n",
    "    offset = .015\n",
    "    if alphas[i]<=.1:\n",
    "        position = (fpr[i] + offset, tpr[i])\n",
    "    if alphas[i]>.9:\n",
    "        position = (fpr[i]-10*offset,tpr[i] - 5*offset)\n",
    "    elif alphas[i]>=.6:\n",
    "        position = (fpr[i]-4*offset, tpr[i] - 5*offset)\n",
    "    elif alphas[i]>=.3:\n",
    "        position = (fpr[i], tpr[i] - 4*offset)\n",
    "    else:\n",
    "        position = (fpr[i] + 2*offset, tpr[i] - 2*offset)\n",
    "    label.set_position(position)\n",
    "    return [patches1, patches2]"
   ]
  },
  {
   "cell_type": "code",
   "execution_count": null,
   "metadata": {
    "slideshow": {
     "slide_type": "slide"
    }
   },
   "outputs": [],
   "source": [
    "ani = animation.FuncAnimation(fig, animate, init_func = init, frames=len(alphas),\n",
    "                             interval=500)\n",
    "HTML(ani.to_jshtml())"
   ]
  },
  {
   "cell_type": "code",
   "execution_count": null,
   "metadata": {
    "slideshow": {
     "slide_type": "slide"
    }
   },
   "outputs": [],
   "source": [
    "ani.save('alpha.gif', dpi=80, writer='imagemagick')"
   ]
  }
 ],
 "metadata": {
  "celltoolbar": "Slideshow",
  "kernelspec": {
   "display_name": "Python 3",
   "language": "python",
   "name": "python3"
  },
  "language_info": {
   "codemirror_mode": {
    "name": "ipython",
    "version": 3
   },
   "file_extension": ".py",
   "mimetype": "text/x-python",
   "name": "python",
   "nbconvert_exporter": "python",
   "pygments_lexer": "ipython3",
   "version": "3.6.3"
  }
 },
 "nbformat": 4,
 "nbformat_minor": 2
}
