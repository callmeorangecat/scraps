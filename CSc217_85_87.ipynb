{
 "cells": [
  {
   "cell_type": "markdown",
   "metadata": {},
   "source": [
    "8.5. The following data set shows population of the United States (in million) since 1790,\n",
    "\n",
    "|  |   |   |   |   |   |   |   |   |   |   |   |\n",
    "|:-|:-:|:-:|:-:|:-:|:-:|:-:|:-:|:-:|:-:|:-:|:-:|\n",
    "|Year|1790|1800|1810|1820|1830|1840|1850|1860|1870|1880|1890|1900|\n",
    "|Population|3.9|5.3|7.2|9.6|12.9|17.1|23.2|31.4|38.6|50.2|63.0|76.2|\n",
    "|Year|1910|1920|1930|1940|1950|1960|1970|1980|1990|2000|2010|\n",
    "|Population|92.2|106.0|123.2|132.2|151.3|179.3|203.3|226.5|248.7|281.4| 308.7|\n",
    "\n",
    "Construct a time plot for the U.S. population. What kind of trend do you see? What information can be extracted from this plot?"
   ]
  },
  {
   "cell_type": "code",
   "execution_count": 2,
   "metadata": {},
   "outputs": [],
   "source": [
    "import numpy as np\n",
    "import pandas as pd \n",
    "import matplotlib.pyplot as plt\n",
    "%matplotlib inline"
   ]
  },
  {
   "cell_type": "code",
   "execution_count": 3,
   "metadata": {},
   "outputs": [
    {
     "data": {
      "text/html": [
       "<div>\n",
       "<style scoped>\n",
       "    .dataframe tbody tr th:only-of-type {\n",
       "        vertical-align: middle;\n",
       "    }\n",
       "\n",
       "    .dataframe tbody tr th {\n",
       "        vertical-align: top;\n",
       "    }\n",
       "\n",
       "    .dataframe thead th {\n",
       "        text-align: right;\n",
       "    }\n",
       "</style>\n",
       "<table border=\"1\" class=\"dataframe\">\n",
       "  <thead>\n",
       "    <tr style=\"text-align: right;\">\n",
       "      <th></th>\n",
       "      <th>population</th>\n",
       "    </tr>\n",
       "  </thead>\n",
       "  <tbody>\n",
       "    <tr>\n",
       "      <th>1790</th>\n",
       "      <td>3.9</td>\n",
       "    </tr>\n",
       "    <tr>\n",
       "      <th>1800</th>\n",
       "      <td>5.3</td>\n",
       "    </tr>\n",
       "    <tr>\n",
       "      <th>1810</th>\n",
       "      <td>7.2</td>\n",
       "    </tr>\n",
       "    <tr>\n",
       "      <th>1820</th>\n",
       "      <td>9.6</td>\n",
       "    </tr>\n",
       "    <tr>\n",
       "      <th>1830</th>\n",
       "      <td>12.9</td>\n",
       "    </tr>\n",
       "  </tbody>\n",
       "</table>\n",
       "</div>"
      ],
      "text/plain": [
       "      population\n",
       "1790         3.9\n",
       "1800         5.3\n",
       "1810         7.2\n",
       "1820         9.6\n",
       "1830        12.9"
      ]
     },
     "execution_count": 3,
     "metadata": {},
     "output_type": "execute_result"
    }
   ],
   "source": [
    "# Get the data into a Pandas dataframe for easy processing\n",
    "year = np.array([1790,1800,1810,1820,1830,1840,1850,1860,\n",
    "                  1870,1880,1890,1900,1910,1920,1930,1940,\n",
    "                  1950,1960,1970,1980,1990,2000,2010])\n",
    "pop = np.array([3.9,5.3,7.2,9.6,12.9,17.1,23.2,31.4,\n",
    "                38.6,50.2,63.0,76.2,92.2,106.0,123.2,\n",
    "                132.2,151.3,179.3,203.3,226.5,248.7,281.4, 308.7,])\n",
    "\n",
    "df = pd.DataFrame({'population':pop}, index=year)\n",
    "df.head()"
   ]
  },
  {
   "cell_type": "code",
   "execution_count": 4,
   "metadata": {},
   "outputs": [
    {
     "data": {
      "image/png": "[encoded data removed]",
      "text/plain": [
       "<Figure size 720x360 with 1 Axes>"
      ]
     },
     "metadata": {},
     "output_type": "display_data"
    }
   ],
   "source": [
    "fig, ax = plt.subplots(figsize=(10,5))\n",
    "_ = df.plot(marker='o', linestyle=\"none\", ax=ax)\n",
    "_ = ax.set_ylabel(\"population (in millions)\")"
   ]
  },
  {
   "cell_type": "markdown",
   "metadata": {},
   "source": [
    "\n",
    "8.6. Refer to Exercise 8.5. Compute 10-year increments of the population growth x1 = 5.3−3.9,\n",
    "x2 = 7.2 − 5.3, etc."
   ]
  },
  {
   "cell_type": "code",
   "execution_count": 5,
   "metadata": {},
   "outputs": [
    {
     "data": {
      "text/html": [
       "<div>\n",
       "<style scoped>\n",
       "    .dataframe tbody tr th:only-of-type {\n",
       "        vertical-align: middle;\n",
       "    }\n",
       "\n",
       "    .dataframe tbody tr th {\n",
       "        vertical-align: top;\n",
       "    }\n",
       "\n",
       "    .dataframe thead th {\n",
       "        text-align: right;\n",
       "    }\n",
       "</style>\n",
       "<table border=\"1\" class=\"dataframe\">\n",
       "  <thead>\n",
       "    <tr style=\"text-align: right;\">\n",
       "      <th></th>\n",
       "      <th>population</th>\n",
       "      <th>increment</th>\n",
       "    </tr>\n",
       "  </thead>\n",
       "  <tbody>\n",
       "    <tr>\n",
       "      <th>1790</th>\n",
       "      <td>3.9</td>\n",
       "      <td>NaN</td>\n",
       "    </tr>\n",
       "    <tr>\n",
       "      <th>1800</th>\n",
       "      <td>5.3</td>\n",
       "      <td>1.4</td>\n",
       "    </tr>\n",
       "    <tr>\n",
       "      <th>1810</th>\n",
       "      <td>7.2</td>\n",
       "      <td>1.9</td>\n",
       "    </tr>\n",
       "    <tr>\n",
       "      <th>1820</th>\n",
       "      <td>9.6</td>\n",
       "      <td>2.4</td>\n",
       "    </tr>\n",
       "    <tr>\n",
       "      <th>1830</th>\n",
       "      <td>12.9</td>\n",
       "      <td>3.3</td>\n",
       "    </tr>\n",
       "  </tbody>\n",
       "</table>\n",
       "</div>"
      ],
      "text/plain": [
       "      population  increment\n",
       "1790         3.9        NaN\n",
       "1800         5.3        1.4\n",
       "1810         7.2        1.9\n",
       "1820         9.6        2.4\n",
       "1830        12.9        3.3"
      ]
     },
     "execution_count": 5,
     "metadata": {},
     "output_type": "execute_result"
    }
   ],
   "source": [
    "df['increment'] = df['population'].diff()\n",
    "df.head()"
   ]
  },
  {
   "cell_type": "markdown",
   "metadata": {},
   "source": [
    "(a) Compute sample mean, median, and variance of 10-year increments. Discuss how the\n",
    "U.S. population changes during a decade."
   ]
  },
  {
   "cell_type": "code",
   "execution_count": 6,
   "metadata": {},
   "outputs": [
    {
     "data": {
      "text/plain": [
       "(13.854545454545455, 13.0, 87.60354978354978)"
      ]
     },
     "execution_count": 6,
     "metadata": {},
     "output_type": "execute_result"
    }
   ],
   "source": [
    "df['increment'].mean(), df['increment'].median(), df['increment'].var()\n"
   ]
  },
  {
   "cell_type": "markdown",
   "metadata": {},
   "source": [
    "(b) Construct a time plot of 10-year increments and discuss the observed pattern."
   ]
  },
  {
   "cell_type": "code",
   "execution_count": 7,
   "metadata": {},
   "outputs": [
    {
     "data": {
      "image/png": "[encoded data removed]",
      "text/plain": [
       "<Figure size 720x360 with 1 Axes>"
      ]
     },
     "metadata": {},
     "output_type": "display_data"
    }
   ],
   "source": [
    "fig, ax = plt.subplots(figsize=(10, 5))\n",
    "_ = df['increment'].plot(marker='o', linestyle=\"none\", ax=ax)\n",
    "_ = ax.set_ylabel(\"10-year increments in population growth\")\n",
    "_ = ax.vlines(df.index, ymin=0, ymax=df['increment'].max()+1, color='gray', linestyle=':', zorder=-1)\n",
    "_ = ax.set_ylim(0, df['increment'].max()+1)"
   ]
  },
  {
   "cell_type": "markdown",
   "metadata": {},
   "source": [
    "8.7. Refer to Exercise 8.5. Compute 10-year relative population change y1 = (5.3 − 3.9)/3.9,\n",
    "y2 = (7.2 − 5.3)/5.3, etc."
   ]
  },
  {
   "cell_type": "code",
   "execution_count": 8,
   "metadata": {},
   "outputs": [
    {
     "data": {
      "text/plain": [
       "1790    0.358974\n",
       "1800    0.358491\n",
       "1810    0.333333\n",
       "1820    0.343750\n",
       "1830    0.325581\n",
       "dtype: float64"
      ]
     },
     "execution_count": 8,
     "metadata": {},
     "output_type": "execute_result"
    }
   ],
   "source": [
    "#skip the first value of increments 'cause it's not a number and skip the last population number \n",
    "df['relative'] = df['population'].pct_change()\n",
    "\n",
    "# alternative way if you want to manually do the computation:\n",
    "relative = (df['increment'].shift(-1) / df['population'])\n",
    "relative.head()"
   ]
  },
  {
   "cell_type": "markdown",
   "metadata": {},
   "source": [
    "(a) Compute sample mean, median, and variance of the relative population change."
   ]
  },
  {
   "cell_type": "code",
   "execution_count": 10,
   "metadata": {},
   "outputs": [
    {
     "data": {
      "text/plain": [
       "(0.22380057356285804, 0.20974878140232478, 0.01025037990513498)"
      ]
     },
     "execution_count": 10,
     "metadata": {},
     "output_type": "execute_result"
    }
   ],
   "source": [
    "df['relative'].mean(), df['relative'].median(), df['relative'].var()\n"
   ]
  },
  {
   "cell_type": "markdown",
   "metadata": {},
   "source": [
    "(b) Construct a time plot of the relative population change. What trend do you see now?"
   ]
  },
  {
   "cell_type": "code",
   "execution_count": 11,
   "metadata": {},
   "outputs": [
    {
     "data": {
      "image/png": "[encoded data removed]",
      "text/plain": [
       "<Figure size 720x360 with 1 Axes>"
      ]
     },
     "metadata": {},
     "output_type": "display_data"
    }
   ],
   "source": [
    "fig, ax = plt.subplots(figsize=(10, 5))\n",
    "_ = df['relative'].plot(marker='o', linestyle=\"none\", ax=ax)\n",
    "_ = ax.set_ylabel(\"% change in population \")\n",
    "_ = ax.vlines(df.index, ymin=0, ymax=1, color='gray', linestyle=':', zorder=-1)\n",
    "_ = ax.set_ylim(0, 1)"
   ]
  },
  {
   "cell_type": "markdown",
   "metadata": {},
   "source": [
    "(c) Comparing the time plots in Exercises 8.6 and 8.7, what kind of correlation between\n",
    "xi and yi would you expect? Verify by computing the sample correlation coefficient\n",
    "\n",
    "$$\n",
    "r = \\frac{\\sum{(x_i - \\bar{x})(y_i - \\bar{y})/(n-1)}}{s_xs_y}\n",
    "$$\n",
    "What can you conclude? How would you explain this phenomenon?"
   ]
  },
  {
   "cell_type": "code",
   "execution_count": 12,
   "metadata": {},
   "outputs": [
    {
     "data": {
      "text/html": [
       "<div>\n",
       "<style scoped>\n",
       "    .dataframe tbody tr th:only-of-type {\n",
       "        vertical-align: middle;\n",
       "    }\n",
       "\n",
       "    .dataframe tbody tr th {\n",
       "        vertical-align: top;\n",
       "    }\n",
       "\n",
       "    .dataframe thead th {\n",
       "        text-align: right;\n",
       "    }\n",
       "</style>\n",
       "<table border=\"1\" class=\"dataframe\">\n",
       "  <thead>\n",
       "    <tr style=\"text-align: right;\">\n",
       "      <th></th>\n",
       "      <th>increment</th>\n",
       "      <th>relative</th>\n",
       "    </tr>\n",
       "  </thead>\n",
       "  <tbody>\n",
       "    <tr>\n",
       "      <th>increment</th>\n",
       "      <td>1.00000</td>\n",
       "      <td>-0.78842</td>\n",
       "    </tr>\n",
       "    <tr>\n",
       "      <th>relative</th>\n",
       "      <td>-0.78842</td>\n",
       "      <td>1.00000</td>\n",
       "    </tr>\n",
       "  </tbody>\n",
       "</table>\n",
       "</div>"
      ],
      "text/plain": [
       "           increment  relative\n",
       "increment    1.00000  -0.78842\n",
       "relative    -0.78842   1.00000"
      ]
     },
     "execution_count": 12,
     "metadata": {},
     "output_type": "execute_result"
    }
   ],
   "source": [
    "df[['increment', 'relative']].corr()"
   ]
  },
  {
   "cell_type": "code",
   "execution_count": null,
   "metadata": {},
   "outputs": [],
   "source": []
  }
 ],
 "metadata": {
  "kernelspec": {
   "display_name": "Python 3",
   "language": "python",
   "name": "python3"
  },
  "language_info": {
   "codemirror_mode": {
    "name": "ipython",
    "version": 3
   },
   "file_extension": ".py",
   "mimetype": "text/x-python",
   "name": "python",
   "nbconvert_exporter": "python",
   "pygments_lexer": "ipython3",
   "version": "3.6.4"
  }
 },
 "nbformat": 4,
 "nbformat_minor": 2
}
