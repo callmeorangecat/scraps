{
 "cells": [
  {
   "cell_type": "code",
   "execution_count": 5,
   "metadata": {},
   "outputs": [],
   "source": [
    "from sympy import init_printing, pprint, symbols, Function\n",
    "init_printing()\n",
    "\n",
    "x, h = symbols(\"x,h\")\n",
    "f = Function(\"f\")"
   ]
  },
  {
   "cell_type": "code",
   "execution_count": 6,
   "metadata": {},
   "outputs": [
    {
     "name": "stdout",
     "output_type": "stream",
     "text": [
      "                                              ⎛  2        ⎞│                  \n",
      "                                            2 ⎜ d         ⎟│                  \n",
      "                                    (-h + x) ⋅⎜────(f(ξ₁))⎟│                  \n",
      "                                              ⎜   2       ⎟│                  \n",
      "                ⎛ d        ⎞│                 ⎝dξ₁        ⎠│ξ₁=h    ⎛        3\n",
      "f(h) + (-h + x)⋅⎜───(f(ξ₁))⎟│     + ──────────────────────────── + O⎝(-h + x) \n",
      "                ⎝dξ₁       ⎠│ξ₁=h                2                            \n",
      "\n",
      "        \n",
      "        \n",
      "        \n",
      "        \n",
      "       ⎞\n",
      "; x → h⎠\n",
      "        \n"
     ]
    }
   ],
   "source": [
    "pprint(f(x).series(x, x0=h, n=3))"
   ]
  },
  {
   "cell_type": "code",
   "execution_count": 2,
   "metadata": {},
   "outputs": [
    {
     "name": "stdout",
     "output_type": "stream",
     "text": [
      "Collecting package metadata (current_repodata.json): done\n",
      "Solving environment: done\n",
      "\n",
      "## Package Plan ##\n",
      "\n",
      "  environment location: /home/hannah/miniconda3/envs/mpl\n",
      "\n",
      "  added / updated specs:\n",
      "    - sympy\n",
      "\n",
      "\n",
      "The following packages will be downloaded:\n",
      "\n",
      "    package                    |            build\n",
      "    ---------------------------|-----------------\n",
      "    fastcache-1.1.0            |   py37h516909a_0          29 KB  conda-forge\n",
      "    gmpy2-2.1.0b1              |   py37h04dde30_0         205 KB  conda-forge\n",
      "    mpfr-4.0.2                 |       ha14ba45_0         678 KB  conda-forge\n",
      "    mpmath-1.1.0               |             py_0         432 KB  conda-forge\n",
      "    sympy-1.4                  |           py37_0         9.7 MB  conda-forge\n",
      "    ------------------------------------------------------------\n",
      "                                           Total:        11.0 MB\n",
      "\n",
      "The following NEW packages will be INSTALLED:\n",
      "\n",
      "  fastcache          conda-forge/linux-64::fastcache-1.1.0-py37h516909a_0\n",
      "  gmp                conda-forge/linux-64::gmp-6.1.2-hf484d3e_1000\n",
      "  gmpy2              conda-forge/linux-64::gmpy2-2.1.0b1-py37h04dde30_0\n",
      "  mpc                conda-forge/linux-64::mpc-1.1.0-hb20f59a_1006\n",
      "  mpfr               conda-forge/linux-64::mpfr-4.0.2-ha14ba45_0\n",
      "  mpmath             conda-forge/noarch::mpmath-1.1.0-py_0\n",
      "  sympy              conda-forge/linux-64::sympy-1.4-py37_0\n",
      "\n",
      "\n",
      "\n",
      "Downloading and Extracting Packages\n",
      "fastcache-1.1.0      | 29 KB     | ##################################### | 100% \n",
      "gmpy2-2.1.0b1        | 205 KB    | ##################################### | 100% \n",
      "mpmath-1.1.0         | 432 KB    | ##################################### | 100% \n",
      "sympy-1.4            | 9.7 MB    | ##################################### | 100% \n",
      "mpfr-4.0.2           | 678 KB    | ##################################### | 100% \n",
      "Preparing transaction: done\n",
      "Verifying transaction: done\n",
      "Executing transaction: done\n",
      "\n",
      "Note: you may need to restart the kernel to use updated packages.\n"
     ]
    }
   ],
   "source": [
    "%conda install sympy"
   ]
  },
  {
   "cell_type": "code",
   "execution_count": null,
   "metadata": {},
   "outputs": [],
   "source": []
  }
 ],
 "metadata": {
  "kernelspec": {
   "display_name": "Python 3",
   "language": "python",
   "name": "python3"
  },
  "language_info": {
   "codemirror_mode": {
    "name": "ipython",
    "version": 3
   },
   "file_extension": ".py",
   "mimetype": "text/x-python",
   "name": "python",
   "nbconvert_exporter": "python",
   "pygments_lexer": "ipython3",
   "version": "3.7.3"
  }
 },
 "nbformat": 4,
 "nbformat_minor": 2
}
