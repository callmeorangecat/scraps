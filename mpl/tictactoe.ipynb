{
 "cells": [
  {
   "cell_type": "markdown",
   "metadata": {},
   "source": [
    "Before your interview, write a program that lets two humans play a game of Tic Tac Toe in a terminal. \n",
    "The program should let the players take turns to input their moves. \n",
    "The program should report the outcome of the game"
   ]
  },
  {
   "cell_type": "code",
   "execution_count": 1,
   "metadata": {},
   "outputs": [],
   "source": [
    "%matplotlib widget\n",
    "import itertools\n",
    "import random  \n",
    "\n",
    "import matplotlib.pyplot as plt\n",
    "import matplotlib.patches as mpatches\n",
    "import matplotlib.path as mpath\n",
    "import matplotlib.cm as mcm\n",
    "import matplotlib.transforms as mtransforms\n",
    "from matplotlib.collections import PatchCollection\n",
    "# https://matplotlib.org/3.1.1/gallery/shapes_and_collections/artist_reference.html\n",
    "import numpy as np"
   ]
  },
  {
   "cell_type": "code",
   "execution_count": 50,
   "metadata": {},
   "outputs": [],
   "source": [
    "class TicTacToe(object):\n",
    "    loc = [0, .33, .66]\n",
    "    inds = dict(zip(loc, [0,1,2]))\n",
    "    facecolor = \"0.99\"\n",
    "    gridcolor = \"#11557c\"\n",
    "    edgecolor = '0.5'\n",
    "    radii = 10 * np.array([0.2, 0.6, 0.8, 0.7, 0.4, 0.5, 0.8])\n",
    "    colors = [mcm.jet(r/10.) for r in radii]\n",
    "\n",
    "    def __init__(self, game_type='auto'):\n",
    "        self.game_type = game_type\n",
    "        \n",
    "        self.players = itertools.cycle(['X','O'])\n",
    "        self.player = next(self.players)\n",
    "        self.get_symbol = {'X':self.draw_x, 'O':self.draw_o}\n",
    "        self.board = np.empty(shape=(3,3), dtype='object')\n",
    "        self.plays = 0\n",
    "        self.game_over = False\n",
    "            \n",
    "        self.fig, self.ax = plt.subplots()\n",
    "        \n",
    "        #MPL dev Tom Caswell suggested I use patches\n",
    "        for (x,y) in itertools.product(self.loc, repeat=2):\n",
    "             patch = mpatches.Rectangle((x,y), height=.3, width=.3, \n",
    "                                        ec=self.edgecolor, fc=self.facecolor,\n",
    "                                        picker=True)\n",
    "             self.ax.add_patch(patch)\n",
    "\n",
    "        self.ax.set_aspect('equal')\n",
    "        self.ax.set_xlim(0,.96) # set clean borders\n",
    "        self.ax.set_ylim(0,.96)\n",
    "        self.ax.set_facecolor(self.gridcolor)\n",
    "        for spine in self.ax.spines.values():\n",
    "            spine.set_edgecolor(self.edgecolor)\n",
    "        self.ax.set_xticks([])\n",
    "        self.ax.set_yticks([])\n",
    "\n",
    "        # Connect the click function to the button press event\n",
    "        # bind pick events to our on_pick function\n",
    "        self.fig.canvas.mpl_connect('pick_event', self.on_pick)\n",
    "        plt.show()\n",
    "\n",
    "    def draw_x(self, x, y):\n",
    "        width, height = .3, .3\n",
    "        span = .03\n",
    "        verts = [(x+width/2-span, y), (x+width/2+span,y), (x+width/2+span,y+height/2-span), \n",
    "                 (x+width,y+height/2-span), (x+width, y+height/2+span), (x+width/2+span, y+height/2+span),\n",
    "                 (x+width/2+span, y+height), (x+width/2-span, y+height), (x+width/2-span, y+height/2+span),\n",
    "                 (x, y+height/2+span), (x, y+height/2-span), (x+width/2-span, y+height/2-span), \n",
    "                 (x+width/2-span, y)]\n",
    "\n",
    "        codes = [mpath.Path.MOVETO, mpath.Path.LINETO, mpath.Path.LINETO, mpath.Path.LINETO, mpath.Path.LINETO,\n",
    "             mpath.Path.LINETO, mpath.Path.LINETO, mpath.Path.LINETO, mpath.Path.LINETO,mpath.Path.LINETO, \n",
    "             mpath.Path.LINETO, mpath.Path.LINETO, mpath.Path.CLOSEPOLY,]\n",
    "\n",
    "        path = mpath.Path(verts, codes)\n",
    "        #https://stackoverflow.com/questions/4285103/matplotlib-rotating-a-patch\n",
    "        path = path.transformed(mtransforms.Affine2D().rotate_deg_around(x+width/2, y+height/2, 45))\n",
    "        return [mpatches.PathPatch(path, fc=self.colors[2], ec = self.gridcolor)]\n",
    "        \n",
    "    \n",
    "    def draw_o(self, x, y):\n",
    "        return [mpatches.Circle((x +.15, y +.15), radius=.13, fc=self.colors[1], ec=self.gridcolor),\n",
    "                mpatches.Circle((x +.15, y +.15), radius=.07, fc=self.facecolor, ec=self.gridcolor)]\n",
    "       \n",
    "    def check_win(self):\n",
    "        \"\"\"\n",
    "        down, across, \\ diagonal, /diagonal  \n",
    "        \"\"\"\n",
    "        return ((self.board==self.player).all(axis=0).any() | \n",
    "                (self.board==self.player).all(axis=1).any() | \n",
    "                (np.diag(self.board)==self.player).all()|\n",
    "                (np.diag(np.flip(self.board,axis=1))== self.player).all())\n",
    "         \n",
    "    def auto_move(self):\n",
    "        xcoord, ycoord = np.where(self.board==None)\n",
    "        x, y = random.choice(list(zip(xcoord, ycoord)))\n",
    "        self.draw_symbol(self.loc[x], self.loc[y])\n",
    "        self.next_turn()\n",
    "    \n",
    "    #https://jakevdp.github.io/blog/2012/12/06/minesweeper-in-matplotlib/\n",
    "    # Function to be called when mouse is clicked\n",
    "    # create a function to be bound to pick events: here the event has an\n",
    "    # attribute `artist` which points to the object which was clicked\n",
    "    \n",
    "    def draw_symbol(self, x, y):\n",
    "        patches = self.get_symbol[self.player](x, y)\n",
    "        [self.ax.add_patch(p) for p in patches]\n",
    "        self.fig.canvas.draw()\n",
    "        self.board[self.inds[x], self.inds[y]] = self.player\n",
    "        self.plays += 1\n",
    "        \n",
    "    \n",
    "    def next_turn(self):\n",
    "        if self.plays > 4 and self.check_win():\n",
    "            self.ax.set_title(f'Player {self.player} won!', fontsize=24)\n",
    "            self.game_over = True\n",
    "            self.fig.canvas.draw()\n",
    "        elif self.plays == 9:\n",
    "            self.ax.set_title(\"Draw\",fontsize=24)\n",
    "            self.game_over = True\n",
    "            self.fig.canvas.draw()\n",
    "        else:\n",
    "            self.player = next(self.players)\n",
    "        return\n",
    "    \n",
    "    def on_pick(self, event):  \n",
    "        xy = event.artist.get_xy()\n",
    "        x, y = xy[0], xy[1]\n",
    "        \n",
    "        if self.game_over or (self.board[self.inds[x], self.inds[y]] is not None):\n",
    "            return #don't overwrite board \n",
    "        \n",
    "        self.draw_symbol(x, y)\n",
    "        self.next_turn()\n",
    "        \n",
    "        if not self.game_over and self.game_type == 'auto':\n",
    "            self.auto_move()\n",
    "        return"
   ]
  },
  {
   "cell_type": "code",
   "execution_count": 56,
   "metadata": {},
   "outputs": [
    {
     "name": "stderr",
     "output_type": "stream",
     "text": [
      "/home/hannah/miniconda3/envs/mos/lib/python3.7/site-packages/matplotlib/pyplot.py:514: RuntimeWarning: More than 20 figures have been opened. Figures created through the pyplot interface (`matplotlib.pyplot.figure`) are retained until explicitly closed and may consume too much memory. (To control this warning, see the rcParam `figure.max_open_warning`).\n",
      "  max_open_warning, RuntimeWarning)\n"
     ]
    },
    {
     "data": {
      "application/vnd.jupyter.widget-view+json": {
       "model_id": "21ab09a605c342699fb3f29918fdcd70",
       "version_major": 2,
       "version_minor": 0
      },
      "text/plain": [
       "FigureCanvasNbAgg()"
      ]
     },
     "metadata": {},
     "output_type": "display_data"
    },
    {
     "data": {
      "text/plain": [
       "<__main__.TicTacToe at 0x7f0157ade668>"
      ]
     },
     "execution_count": 56,
     "metadata": {},
     "output_type": "execute_result"
    }
   ],
   "source": [
    "TicTacToe('auto')"
   ]
  },
  {
   "cell_type": "code",
   "execution_count": null,
   "metadata": {},
   "outputs": [],
   "source": []
  }
 ],
 "metadata": {
  "kernelspec": {
   "display_name": "Python 3",
   "language": "python",
   "name": "python3"
  },
  "language_info": {
   "codemirror_mode": {
    "name": "ipython",
    "version": 3
   },
   "file_extension": ".py",
   "mimetype": "text/x-python",
   "name": "python",
   "nbconvert_exporter": "python",
   "pygments_lexer": "ipython3",
   "version": "3.7.1"
  },
  "varInspector": {
   "cols": {
    "lenName": 16,
    "lenType": 16,
    "lenVar": 40
   },
   "kernels_config": {
    "python": {
     "delete_cmd_postfix": "",
     "delete_cmd_prefix": "del ",
     "library": "var_list.py",
     "varRefreshCmd": "print(var_dic_list())"
    },
    "r": {
     "delete_cmd_postfix": ") ",
     "delete_cmd_prefix": "rm(",
     "library": "var_list.r",
     "varRefreshCmd": "cat(var_dic_list()) "
    }
   },
   "types_to_exclude": [
    "module",
    "function",
    "builtin_function_or_method",
    "instance",
    "_Feature"
   ],
   "window_display": false
  }
 },
 "nbformat": 4,
 "nbformat_minor": 2
}
